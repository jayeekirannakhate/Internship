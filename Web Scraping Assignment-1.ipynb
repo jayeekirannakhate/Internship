{
 "cells": [
  {
   "cell_type": "code",
   "execution_count": 1,
   "id": "4376a47c",
   "metadata": {},
   "outputs": [],
   "source": [
    "from bs4 import BeautifulSoup\n",
    "import requests\n",
    "import pandas as pd"
   ]
  },
  {
   "cell_type": "markdown",
   "id": "6e7967f7",
   "metadata": {},
   "source": [
    "## Q NO 1"
   ]
  },
  {
   "cell_type": "code",
   "execution_count": 2,
   "id": "c68e3356",
   "metadata": {},
   "outputs": [
    {
     "data": {
      "text/plain": [
       "<Response [200]>"
      ]
     },
     "execution_count": 2,
     "metadata": {},
     "output_type": "execute_result"
    }
   ],
   "source": [
    "page = requests.get('https://en.wikipedia.org/wiki/Main_Page')\n",
    "page"
   ]
  },
  {
   "cell_type": "code",
   "execution_count": 3,
   "id": "9ef665b3",
   "metadata": {},
   "outputs": [],
   "source": [
    "# page content\n",
    "soup = BeautifulSoup(page.content)"
   ]
  },
  {
   "cell_type": "code",
   "execution_count": 4,
   "id": "3393d40e",
   "metadata": {},
   "outputs": [],
   "source": [
    "titles = []\n",
    "for i in soup.find_all('span', class_=\"mw-headline\"):\n",
    "    titles.append(i.text)"
   ]
  },
  {
   "cell_type": "code",
   "execution_count": 5,
   "id": "92806a69",
   "metadata": {},
   "outputs": [
    {
     "data": {
      "text/html": [
       "<div>\n",
       "<style scoped>\n",
       "    .dataframe tbody tr th:only-of-type {\n",
       "        vertical-align: middle;\n",
       "    }\n",
       "\n",
       "    .dataframe tbody tr th {\n",
       "        vertical-align: top;\n",
       "    }\n",
       "\n",
       "    .dataframe thead th {\n",
       "        text-align: right;\n",
       "    }\n",
       "</style>\n",
       "<table border=\"1\" class=\"dataframe\">\n",
       "  <thead>\n",
       "    <tr style=\"text-align: right;\">\n",
       "      <th></th>\n",
       "      <th>Titles</th>\n",
       "    </tr>\n",
       "  </thead>\n",
       "  <tbody>\n",
       "    <tr>\n",
       "      <th>0</th>\n",
       "      <td>Welcome to Wikipedia</td>\n",
       "    </tr>\n",
       "    <tr>\n",
       "      <th>1</th>\n",
       "      <td>From today's featured article</td>\n",
       "    </tr>\n",
       "    <tr>\n",
       "      <th>2</th>\n",
       "      <td>Did you know ...</td>\n",
       "    </tr>\n",
       "    <tr>\n",
       "      <th>3</th>\n",
       "      <td>In the news</td>\n",
       "    </tr>\n",
       "    <tr>\n",
       "      <th>4</th>\n",
       "      <td>On this day</td>\n",
       "    </tr>\n",
       "    <tr>\n",
       "      <th>5</th>\n",
       "      <td>Today's featured picture</td>\n",
       "    </tr>\n",
       "    <tr>\n",
       "      <th>6</th>\n",
       "      <td>Other areas of Wikipedia</td>\n",
       "    </tr>\n",
       "    <tr>\n",
       "      <th>7</th>\n",
       "      <td>Wikipedia's sister projects</td>\n",
       "    </tr>\n",
       "    <tr>\n",
       "      <th>8</th>\n",
       "      <td>Wikipedia languages</td>\n",
       "    </tr>\n",
       "  </tbody>\n",
       "</table>\n",
       "</div>"
      ],
      "text/plain": [
       "                          Titles\n",
       "0           Welcome to Wikipedia\n",
       "1  From today's featured article\n",
       "2               Did you know ...\n",
       "3                    In the news\n",
       "4                    On this day\n",
       "5       Today's featured picture\n",
       "6       Other areas of Wikipedia\n",
       "7    Wikipedia's sister projects\n",
       "8            Wikipedia languages"
      ]
     },
     "execution_count": 5,
     "metadata": {},
     "output_type": "execute_result"
    }
   ],
   "source": [
    "df = pd.DataFrame({'Titles':titles})\n",
    "df"
   ]
  },
  {
   "cell_type": "markdown",
   "id": "5b33b576",
   "metadata": {},
   "source": [
    "## Q NO 2"
   ]
  },
  {
   "cell_type": "code",
   "execution_count": 6,
   "id": "bedb51dc",
   "metadata": {},
   "outputs": [
    {
     "data": {
      "text/plain": [
       "<Response [200]>"
      ]
     },
     "execution_count": 6,
     "metadata": {},
     "output_type": "execute_result"
    }
   ],
   "source": [
    "page = requests.get('https://www.imdb.com/list/ls055386972/')\n",
    "page"
   ]
  },
  {
   "cell_type": "code",
   "execution_count": 7,
   "id": "6e19a7fb",
   "metadata": {},
   "outputs": [],
   "source": [
    "# page content\n",
    "soup = BeautifulSoup(page.content)"
   ]
  },
  {
   "cell_type": "code",
   "execution_count": 8,
   "id": "e4814073",
   "metadata": {},
   "outputs": [],
   "source": [
    "movies_name=[]\n",
    "for i in soup.find_all(\"h3\", class_=\"lister-item-header\"):\n",
    "    movies_name.append(i.text.replace('\\n',''))"
   ]
  },
  {
   "cell_type": "code",
   "execution_count": 9,
   "id": "5a1b4130",
   "metadata": {},
   "outputs": [],
   "source": [
    "movies_rating = []\n",
    "for i in soup.find_all('div',class_=\"ipl-rating-star small\"):\n",
    "    movies_rating.append(i.text.replace('\\n',''))"
   ]
  },
  {
   "cell_type": "code",
   "execution_count": 10,
   "id": "3d3f83be",
   "metadata": {},
   "outputs": [],
   "source": [
    "year_of_release=[]\n",
    "for i in soup.find_all('span',class_=\"lister-item-year text-muted unbold\"):\n",
    "    year_of_release.append(i.text)"
   ]
  },
  {
   "cell_type": "code",
   "execution_count": 11,
   "id": "ebf117f1",
   "metadata": {},
   "outputs": [
    {
     "name": "stdout",
     "output_type": "stream",
     "text": [
      "50 50 50\n"
     ]
    }
   ],
   "source": [
    "print(len(movies_name),len(movies_rating),len(year_of_release))"
   ]
  },
  {
   "cell_type": "code",
   "execution_count": 12,
   "id": "4f48ed6c",
   "metadata": {},
   "outputs": [
    {
     "data": {
      "text/html": [
       "<div>\n",
       "<style scoped>\n",
       "    .dataframe tbody tr th:only-of-type {\n",
       "        vertical-align: middle;\n",
       "    }\n",
       "\n",
       "    .dataframe tbody tr th {\n",
       "        vertical-align: top;\n",
       "    }\n",
       "\n",
       "    .dataframe thead th {\n",
       "        text-align: right;\n",
       "    }\n",
       "</style>\n",
       "<table border=\"1\" class=\"dataframe\">\n",
       "  <thead>\n",
       "    <tr style=\"text-align: right;\">\n",
       "      <th></th>\n",
       "      <th>Movies Name</th>\n",
       "      <th>Released Year</th>\n",
       "      <th>Movie Ratings</th>\n",
       "    </tr>\n",
       "  </thead>\n",
       "  <tbody>\n",
       "    <tr>\n",
       "      <th>0</th>\n",
       "      <td>1.The Godfather(1972)</td>\n",
       "      <td>(1972)</td>\n",
       "      <td>9.2</td>\n",
       "    </tr>\n",
       "    <tr>\n",
       "      <th>1</th>\n",
       "      <td>2.Schindler's List(1993)</td>\n",
       "      <td>(1993)</td>\n",
       "      <td>9</td>\n",
       "    </tr>\n",
       "    <tr>\n",
       "      <th>2</th>\n",
       "      <td>3.12 Angry Men(1957)</td>\n",
       "      <td>(1957)</td>\n",
       "      <td>9</td>\n",
       "    </tr>\n",
       "    <tr>\n",
       "      <th>3</th>\n",
       "      <td>4.La vita è bella(1997)</td>\n",
       "      <td>(1997)</td>\n",
       "      <td>8.6</td>\n",
       "    </tr>\n",
       "    <tr>\n",
       "      <th>4</th>\n",
       "      <td>5.Il buono, il brutto, il cattivo(1966)</td>\n",
       "      <td>(1966)</td>\n",
       "      <td>8.8</td>\n",
       "    </tr>\n",
       "    <tr>\n",
       "      <th>5</th>\n",
       "      <td>6.The Shawshank Redemption(1994)</td>\n",
       "      <td>(1994)</td>\n",
       "      <td>9.3</td>\n",
       "    </tr>\n",
       "    <tr>\n",
       "      <th>6</th>\n",
       "      <td>7.The Pursuit of Happyness(2006)</td>\n",
       "      <td>(2006)</td>\n",
       "      <td>8</td>\n",
       "    </tr>\n",
       "    <tr>\n",
       "      <th>7</th>\n",
       "      <td>8.Shichinin no samurai(1954)</td>\n",
       "      <td>(1954)</td>\n",
       "      <td>8.6</td>\n",
       "    </tr>\n",
       "    <tr>\n",
       "      <th>8</th>\n",
       "      <td>9.The Intouchables(2011)</td>\n",
       "      <td>(2011)</td>\n",
       "      <td>8.5</td>\n",
       "    </tr>\n",
       "    <tr>\n",
       "      <th>9</th>\n",
       "      <td>10.Central do Brasil(1998)</td>\n",
       "      <td>(1998)</td>\n",
       "      <td>8</td>\n",
       "    </tr>\n",
       "    <tr>\n",
       "      <th>10</th>\n",
       "      <td>11.Requiem for a Dream(2000)</td>\n",
       "      <td>(2000)</td>\n",
       "      <td>8.3</td>\n",
       "    </tr>\n",
       "    <tr>\n",
       "      <th>11</th>\n",
       "      <td>12.A Beautiful Mind(2001)</td>\n",
       "      <td>(2001)</td>\n",
       "      <td>8.2</td>\n",
       "    </tr>\n",
       "    <tr>\n",
       "      <th>12</th>\n",
       "      <td>13.Hachi: A Dog's Tale(2009)</td>\n",
       "      <td>(2009)</td>\n",
       "      <td>8.1</td>\n",
       "    </tr>\n",
       "    <tr>\n",
       "      <th>13</th>\n",
       "      <td>14.Taken(I) (2008)</td>\n",
       "      <td>(I) (2008)</td>\n",
       "      <td>7.8</td>\n",
       "    </tr>\n",
       "    <tr>\n",
       "      <th>14</th>\n",
       "      <td>15.Yeopgijeogin geunyeo(2001)</td>\n",
       "      <td>(2001)</td>\n",
       "      <td>8</td>\n",
       "    </tr>\n",
       "    <tr>\n",
       "      <th>15</th>\n",
       "      <td>16.Amores perros(2000)</td>\n",
       "      <td>(2000)</td>\n",
       "      <td>8.1</td>\n",
       "    </tr>\n",
       "    <tr>\n",
       "      <th>16</th>\n",
       "      <td>17.The Shining(1980)</td>\n",
       "      <td>(1980)</td>\n",
       "      <td>8.4</td>\n",
       "    </tr>\n",
       "    <tr>\n",
       "      <th>17</th>\n",
       "      <td>18.Apocalypto(2006)</td>\n",
       "      <td>(2006)</td>\n",
       "      <td>7.8</td>\n",
       "    </tr>\n",
       "    <tr>\n",
       "      <th>18</th>\n",
       "      <td>19.Gladiator(2000)</td>\n",
       "      <td>(2000)</td>\n",
       "      <td>8.5</td>\n",
       "    </tr>\n",
       "    <tr>\n",
       "      <th>19</th>\n",
       "      <td>20.Cast Away(2000)</td>\n",
       "      <td>(2000)</td>\n",
       "      <td>7.8</td>\n",
       "    </tr>\n",
       "    <tr>\n",
       "      <th>20</th>\n",
       "      <td>21.The Dark Knight(2008)</td>\n",
       "      <td>(2008)</td>\n",
       "      <td>9</td>\n",
       "    </tr>\n",
       "    <tr>\n",
       "      <th>21</th>\n",
       "      <td>22.The Pianist(2002)</td>\n",
       "      <td>(2002)</td>\n",
       "      <td>8.5</td>\n",
       "    </tr>\n",
       "    <tr>\n",
       "      <th>22</th>\n",
       "      <td>23.Titanic(1997)</td>\n",
       "      <td>(1997)</td>\n",
       "      <td>7.9</td>\n",
       "    </tr>\n",
       "    <tr>\n",
       "      <th>23</th>\n",
       "      <td>24.Bin-jip(2004)</td>\n",
       "      <td>(2004)</td>\n",
       "      <td>7.9</td>\n",
       "    </tr>\n",
       "    <tr>\n",
       "      <th>24</th>\n",
       "      <td>25.Braveheart(1995)</td>\n",
       "      <td>(1995)</td>\n",
       "      <td>8.4</td>\n",
       "    </tr>\n",
       "    <tr>\n",
       "      <th>25</th>\n",
       "      <td>26.It's a Wonderful Life(1946)</td>\n",
       "      <td>(1946)</td>\n",
       "      <td>8.6</td>\n",
       "    </tr>\n",
       "    <tr>\n",
       "      <th>26</th>\n",
       "      <td>27.Bom yeoreum gaeul gyeoul geurigo bom(2003)</td>\n",
       "      <td>(2003)</td>\n",
       "      <td>8</td>\n",
       "    </tr>\n",
       "    <tr>\n",
       "      <th>27</th>\n",
       "      <td>28.Alien(1979)</td>\n",
       "      <td>(1979)</td>\n",
       "      <td>8.5</td>\n",
       "    </tr>\n",
       "    <tr>\n",
       "      <th>28</th>\n",
       "      <td>29.Salinui chueok(2003)</td>\n",
       "      <td>(2003)</td>\n",
       "      <td>8.1</td>\n",
       "    </tr>\n",
       "    <tr>\n",
       "      <th>29</th>\n",
       "      <td>30.Vozvrashchenie(2003)</td>\n",
       "      <td>(2003)</td>\n",
       "      <td>7.9</td>\n",
       "    </tr>\n",
       "    <tr>\n",
       "      <th>30</th>\n",
       "      <td>31.Ang-ma-reul bo-at-da(2010)</td>\n",
       "      <td>(2010)</td>\n",
       "      <td>7.8</td>\n",
       "    </tr>\n",
       "    <tr>\n",
       "      <th>31</th>\n",
       "      <td>32.Bacheha-Ye aseman(1997)</td>\n",
       "      <td>(1997)</td>\n",
       "      <td>8.2</td>\n",
       "    </tr>\n",
       "    <tr>\n",
       "      <th>32</th>\n",
       "      <td>33.Jodaeiye Nader az Simin(2011)</td>\n",
       "      <td>(2011)</td>\n",
       "      <td>8.3</td>\n",
       "    </tr>\n",
       "    <tr>\n",
       "      <th>33</th>\n",
       "      <td>34.The Sixth Sense(1999)</td>\n",
       "      <td>(1999)</td>\n",
       "      <td>8.2</td>\n",
       "    </tr>\n",
       "    <tr>\n",
       "      <th>34</th>\n",
       "      <td>35.Nae meorisokui jiwoogae(2004)</td>\n",
       "      <td>(2004)</td>\n",
       "      <td>8.1</td>\n",
       "    </tr>\n",
       "    <tr>\n",
       "      <th>35</th>\n",
       "      <td>36.Okuribito(2008)</td>\n",
       "      <td>(2008)</td>\n",
       "      <td>8</td>\n",
       "    </tr>\n",
       "    <tr>\n",
       "      <th>36</th>\n",
       "      <td>37.Wo de fu qin mu qin(1999)</td>\n",
       "      <td>(1999)</td>\n",
       "      <td>7.8</td>\n",
       "    </tr>\n",
       "    <tr>\n",
       "      <th>37</th>\n",
       "      <td>38.Saving Private Ryan(1998)</td>\n",
       "      <td>(1998)</td>\n",
       "      <td>8.6</td>\n",
       "    </tr>\n",
       "    <tr>\n",
       "      <th>38</th>\n",
       "      <td>39.The Bridge on the River Kwai(1957)</td>\n",
       "      <td>(1957)</td>\n",
       "      <td>8.2</td>\n",
       "    </tr>\n",
       "    <tr>\n",
       "      <th>39</th>\n",
       "      <td>40.Ben-Hur(1959)</td>\n",
       "      <td>(1959)</td>\n",
       "      <td>8.1</td>\n",
       "    </tr>\n",
       "    <tr>\n",
       "      <th>40</th>\n",
       "      <td>41.The Exorcist(1973)</td>\n",
       "      <td>(1973)</td>\n",
       "      <td>8.1</td>\n",
       "    </tr>\n",
       "    <tr>\n",
       "      <th>41</th>\n",
       "      <td>42.El secreto de sus ojos(2009)</td>\n",
       "      <td>(2009)</td>\n",
       "      <td>8.2</td>\n",
       "    </tr>\n",
       "    <tr>\n",
       "      <th>42</th>\n",
       "      <td>43.Léon(1994)</td>\n",
       "      <td>(1994)</td>\n",
       "      <td>8.5</td>\n",
       "    </tr>\n",
       "    <tr>\n",
       "      <th>43</th>\n",
       "      <td>44.The Green Mile(1999)</td>\n",
       "      <td>(1999)</td>\n",
       "      <td>8.6</td>\n",
       "    </tr>\n",
       "    <tr>\n",
       "      <th>44</th>\n",
       "      <td>45.Gran Torino(2008)</td>\n",
       "      <td>(2008)</td>\n",
       "      <td>8.1</td>\n",
       "    </tr>\n",
       "    <tr>\n",
       "      <th>45</th>\n",
       "      <td>46.Kill Bill: Vol. 1(2003)</td>\n",
       "      <td>(2003)</td>\n",
       "      <td>8.2</td>\n",
       "    </tr>\n",
       "    <tr>\n",
       "      <th>46</th>\n",
       "      <td>47.Jurassic Park(1993)</td>\n",
       "      <td>(1993)</td>\n",
       "      <td>8.2</td>\n",
       "    </tr>\n",
       "    <tr>\n",
       "      <th>47</th>\n",
       "      <td>48.Terminator 2: Judgment Day(1991)</td>\n",
       "      <td>(1991)</td>\n",
       "      <td>8.6</td>\n",
       "    </tr>\n",
       "    <tr>\n",
       "      <th>48</th>\n",
       "      <td>49.Back to the Future(1985)</td>\n",
       "      <td>(1985)</td>\n",
       "      <td>8.5</td>\n",
       "    </tr>\n",
       "    <tr>\n",
       "      <th>49</th>\n",
       "      <td>50.Finding Nemo(2003)</td>\n",
       "      <td>(2003)</td>\n",
       "      <td>8.2</td>\n",
       "    </tr>\n",
       "  </tbody>\n",
       "</table>\n",
       "</div>"
      ],
      "text/plain": [
       "                                      Movies Name Released Year Movie Ratings\n",
       "0                           1.The Godfather(1972)        (1972)           9.2\n",
       "1                        2.Schindler's List(1993)        (1993)             9\n",
       "2                            3.12 Angry Men(1957)        (1957)             9\n",
       "3                         4.La vita è bella(1997)        (1997)           8.6\n",
       "4         5.Il buono, il brutto, il cattivo(1966)        (1966)           8.8\n",
       "5                6.The Shawshank Redemption(1994)        (1994)           9.3\n",
       "6                7.The Pursuit of Happyness(2006)        (2006)             8\n",
       "7                    8.Shichinin no samurai(1954)        (1954)           8.6\n",
       "8                        9.The Intouchables(2011)        (2011)           8.5\n",
       "9                      10.Central do Brasil(1998)        (1998)             8\n",
       "10                   11.Requiem for a Dream(2000)        (2000)           8.3\n",
       "11                      12.A Beautiful Mind(2001)        (2001)           8.2\n",
       "12                   13.Hachi: A Dog's Tale(2009)        (2009)           8.1\n",
       "13                             14.Taken(I) (2008)    (I) (2008)           7.8\n",
       "14                  15.Yeopgijeogin geunyeo(2001)        (2001)             8\n",
       "15                         16.Amores perros(2000)        (2000)           8.1\n",
       "16                           17.The Shining(1980)        (1980)           8.4\n",
       "17                            18.Apocalypto(2006)        (2006)           7.8\n",
       "18                             19.Gladiator(2000)        (2000)           8.5\n",
       "19                             20.Cast Away(2000)        (2000)           7.8\n",
       "20                       21.The Dark Knight(2008)        (2008)             9\n",
       "21                           22.The Pianist(2002)        (2002)           8.5\n",
       "22                               23.Titanic(1997)        (1997)           7.9\n",
       "23                               24.Bin-jip(2004)        (2004)           7.9\n",
       "24                            25.Braveheart(1995)        (1995)           8.4\n",
       "25                 26.It's a Wonderful Life(1946)        (1946)           8.6\n",
       "26  27.Bom yeoreum gaeul gyeoul geurigo bom(2003)        (2003)             8\n",
       "27                                 28.Alien(1979)        (1979)           8.5\n",
       "28                        29.Salinui chueok(2003)        (2003)           8.1\n",
       "29                        30.Vozvrashchenie(2003)        (2003)           7.9\n",
       "30                  31.Ang-ma-reul bo-at-da(2010)        (2010)           7.8\n",
       "31                     32.Bacheha-Ye aseman(1997)        (1997)           8.2\n",
       "32               33.Jodaeiye Nader az Simin(2011)        (2011)           8.3\n",
       "33                       34.The Sixth Sense(1999)        (1999)           8.2\n",
       "34               35.Nae meorisokui jiwoogae(2004)        (2004)           8.1\n",
       "35                             36.Okuribito(2008)        (2008)             8\n",
       "36                   37.Wo de fu qin mu qin(1999)        (1999)           7.8\n",
       "37                   38.Saving Private Ryan(1998)        (1998)           8.6\n",
       "38          39.The Bridge on the River Kwai(1957)        (1957)           8.2\n",
       "39                               40.Ben-Hur(1959)        (1959)           8.1\n",
       "40                          41.The Exorcist(1973)        (1973)           8.1\n",
       "41                42.El secreto de sus ojos(2009)        (2009)           8.2\n",
       "42                                  43.Léon(1994)        (1994)           8.5\n",
       "43                        44.The Green Mile(1999)        (1999)           8.6\n",
       "44                           45.Gran Torino(2008)        (2008)           8.1\n",
       "45                     46.Kill Bill: Vol. 1(2003)        (2003)           8.2\n",
       "46                         47.Jurassic Park(1993)        (1993)           8.2\n",
       "47            48.Terminator 2: Judgment Day(1991)        (1991)           8.6\n",
       "48                    49.Back to the Future(1985)        (1985)           8.5\n",
       "49                          50.Finding Nemo(2003)        (2003)           8.2"
      ]
     },
     "execution_count": 12,
     "metadata": {},
     "output_type": "execute_result"
    }
   ],
   "source": [
    "df=pd.DataFrame({\"Movies Name\":movies_name,\"Released Year\":year_of_release,\"Movie Ratings\":movies_rating})\n",
    "df"
   ]
  },
  {
   "cell_type": "markdown",
   "id": "bb6d1fb4",
   "metadata": {},
   "source": [
    "## Q NO 3"
   ]
  },
  {
   "cell_type": "code",
   "execution_count": 13,
   "id": "b86b02d0",
   "metadata": {},
   "outputs": [
    {
     "data": {
      "text/plain": [
       "<Response [200]>"
      ]
     },
     "execution_count": 13,
     "metadata": {},
     "output_type": "execute_result"
    }
   ],
   "source": [
    "page = requests.get('https://www.imdb.com/list/ls025646548/')\n",
    "page"
   ]
  },
  {
   "cell_type": "code",
   "execution_count": 14,
   "id": "e7e60526",
   "metadata": {},
   "outputs": [],
   "source": [
    "# page content\n",
    "soup = BeautifulSoup(page.content)"
   ]
  },
  {
   "cell_type": "code",
   "execution_count": 15,
   "id": "5ccd1a19",
   "metadata": {},
   "outputs": [],
   "source": [
    "movies_name=[]\n",
    "for i in soup.find_all(\"h3\", class_=\"lister-item-header\"):\n",
    "    movies_name.append(i.text.replace('\\n',''))"
   ]
  },
  {
   "cell_type": "code",
   "execution_count": 16,
   "id": "dabfa275",
   "metadata": {},
   "outputs": [],
   "source": [
    "movies_rating = []\n",
    "for i in soup.find_all('div',class_=\"ipl-rating-star small\"):\n",
    "    movies_rating.append(i.text.replace('\\n',''))"
   ]
  },
  {
   "cell_type": "code",
   "execution_count": 17,
   "id": "fcc82055",
   "metadata": {},
   "outputs": [],
   "source": [
    "year_of_release=[]\n",
    "for i in soup.find_all('span',class_=\"lister-item-year text-muted unbold\"):\n",
    "    year_of_release.append(i.text)"
   ]
  },
  {
   "cell_type": "code",
   "execution_count": 18,
   "id": "825194c7",
   "metadata": {},
   "outputs": [
    {
     "name": "stdout",
     "output_type": "stream",
     "text": [
      "50 50 50\n"
     ]
    }
   ],
   "source": [
    "print(len(movies_name),len(movies_rating),len(year_of_release))"
   ]
  },
  {
   "cell_type": "code",
   "execution_count": 19,
   "id": "3a1d78b6",
   "metadata": {},
   "outputs": [
    {
     "data": {
      "text/html": [
       "<div>\n",
       "<style scoped>\n",
       "    .dataframe tbody tr th:only-of-type {\n",
       "        vertical-align: middle;\n",
       "    }\n",
       "\n",
       "    .dataframe tbody tr th {\n",
       "        vertical-align: top;\n",
       "    }\n",
       "\n",
       "    .dataframe thead th {\n",
       "        text-align: right;\n",
       "    }\n",
       "</style>\n",
       "<table border=\"1\" class=\"dataframe\">\n",
       "  <thead>\n",
       "    <tr style=\"text-align: right;\">\n",
       "      <th></th>\n",
       "      <th>Movies Name</th>\n",
       "      <th>Released Year</th>\n",
       "      <th>Movie Ratings</th>\n",
       "    </tr>\n",
       "  </thead>\n",
       "  <tbody>\n",
       "    <tr>\n",
       "      <th>0</th>\n",
       "      <td>1.Awaara(1951)</td>\n",
       "      <td>(1951)</td>\n",
       "      <td>7.8</td>\n",
       "    </tr>\n",
       "    <tr>\n",
       "      <th>1</th>\n",
       "      <td>2.Shree 420(1955)</td>\n",
       "      <td>(1955)</td>\n",
       "      <td>7.9</td>\n",
       "    </tr>\n",
       "    <tr>\n",
       "      <th>2</th>\n",
       "      <td>3.Pyaasa(1957)</td>\n",
       "      <td>(1957)</td>\n",
       "      <td>8.3</td>\n",
       "    </tr>\n",
       "    <tr>\n",
       "      <th>3</th>\n",
       "      <td>4.Madhumati(1958)</td>\n",
       "      <td>(1958)</td>\n",
       "      <td>7.8</td>\n",
       "    </tr>\n",
       "    <tr>\n",
       "      <th>4</th>\n",
       "      <td>5.Kanoon(1960)</td>\n",
       "      <td>(1960)</td>\n",
       "      <td>7.9</td>\n",
       "    </tr>\n",
       "    <tr>\n",
       "      <th>5</th>\n",
       "      <td>6.Mughal-E-Azam(1960)</td>\n",
       "      <td>(1960)</td>\n",
       "      <td>8.1</td>\n",
       "    </tr>\n",
       "    <tr>\n",
       "      <th>6</th>\n",
       "      <td>7.Kala Bazar(1960)</td>\n",
       "      <td>(1960)</td>\n",
       "      <td>7.1</td>\n",
       "    </tr>\n",
       "    <tr>\n",
       "      <th>7</th>\n",
       "      <td>8.Woh Kaun Thi?(1964)</td>\n",
       "      <td>(1964)</td>\n",
       "      <td>7.5</td>\n",
       "    </tr>\n",
       "    <tr>\n",
       "      <th>8</th>\n",
       "      <td>9.Guide(1965)</td>\n",
       "      <td>(1965)</td>\n",
       "      <td>8.4</td>\n",
       "    </tr>\n",
       "    <tr>\n",
       "      <th>9</th>\n",
       "      <td>10.Amrapali(1966)</td>\n",
       "      <td>(1966)</td>\n",
       "      <td>6.7</td>\n",
       "    </tr>\n",
       "    <tr>\n",
       "      <th>10</th>\n",
       "      <td>11.Anand(1971)</td>\n",
       "      <td>(1971)</td>\n",
       "      <td>8.1</td>\n",
       "    </tr>\n",
       "    <tr>\n",
       "      <th>11</th>\n",
       "      <td>12.Rajnigandha(1974)</td>\n",
       "      <td>(1974)</td>\n",
       "      <td>7.3</td>\n",
       "    </tr>\n",
       "    <tr>\n",
       "      <th>12</th>\n",
       "      <td>13.Arvind Desai Ki Ajeeb Dastaan(1978)</td>\n",
       "      <td>(1978)</td>\n",
       "      <td>7.2</td>\n",
       "    </tr>\n",
       "    <tr>\n",
       "      <th>13</th>\n",
       "      <td>14.Satte Pe Satta(1982)</td>\n",
       "      <td>(1982)</td>\n",
       "      <td>7.2</td>\n",
       "    </tr>\n",
       "    <tr>\n",
       "      <th>14</th>\n",
       "      <td>15.Disco Dancer(1982)</td>\n",
       "      <td>(1982)</td>\n",
       "      <td>6.4</td>\n",
       "    </tr>\n",
       "    <tr>\n",
       "      <th>15</th>\n",
       "      <td>16.Jaane Bhi Do Yaaro(1983)</td>\n",
       "      <td>(1983)</td>\n",
       "      <td>8.3</td>\n",
       "    </tr>\n",
       "    <tr>\n",
       "      <th>16</th>\n",
       "      <td>17.Ardh Satya(1983)</td>\n",
       "      <td>(1983)</td>\n",
       "      <td>8.1</td>\n",
       "    </tr>\n",
       "    <tr>\n",
       "      <th>17</th>\n",
       "      <td>18.Katha(1983)</td>\n",
       "      <td>(1983)</td>\n",
       "      <td>7.7</td>\n",
       "    </tr>\n",
       "    <tr>\n",
       "      <th>18</th>\n",
       "      <td>19.Parinda(1989)</td>\n",
       "      <td>(1989)</td>\n",
       "      <td>7.8</td>\n",
       "    </tr>\n",
       "    <tr>\n",
       "      <th>19</th>\n",
       "      <td>20.Baazigar(1993)</td>\n",
       "      <td>(1993)</td>\n",
       "      <td>7.6</td>\n",
       "    </tr>\n",
       "    <tr>\n",
       "      <th>20</th>\n",
       "      <td>21.Darr(1993)</td>\n",
       "      <td>(1993)</td>\n",
       "      <td>7.6</td>\n",
       "    </tr>\n",
       "    <tr>\n",
       "      <th>21</th>\n",
       "      <td>22.Rangeela(1995)</td>\n",
       "      <td>(1995)</td>\n",
       "      <td>7.4</td>\n",
       "    </tr>\n",
       "    <tr>\n",
       "      <th>22</th>\n",
       "      <td>23.Dilwale Dulhania Le Jayenge(1995)</td>\n",
       "      <td>(1995)</td>\n",
       "      <td>8</td>\n",
       "    </tr>\n",
       "    <tr>\n",
       "      <th>23</th>\n",
       "      <td>24.Border(I) (1997)</td>\n",
       "      <td>(I) (1997)</td>\n",
       "      <td>7.9</td>\n",
       "    </tr>\n",
       "    <tr>\n",
       "      <th>24</th>\n",
       "      <td>25.Satya(1998)</td>\n",
       "      <td>(1998)</td>\n",
       "      <td>8.3</td>\n",
       "    </tr>\n",
       "    <tr>\n",
       "      <th>25</th>\n",
       "      <td>26.Kaun?(1999)</td>\n",
       "      <td>(1999)</td>\n",
       "      <td>7.8</td>\n",
       "    </tr>\n",
       "    <tr>\n",
       "      <th>26</th>\n",
       "      <td>27.Lagaan: Once Upon a Time in India(2001)</td>\n",
       "      <td>(2001)</td>\n",
       "      <td>8.1</td>\n",
       "    </tr>\n",
       "    <tr>\n",
       "      <th>27</th>\n",
       "      <td>28.Company(2002)</td>\n",
       "      <td>(2002)</td>\n",
       "      <td>8</td>\n",
       "    </tr>\n",
       "    <tr>\n",
       "      <th>28</th>\n",
       "      <td>29.Bhoot(2003)</td>\n",
       "      <td>(2003)</td>\n",
       "      <td>6.4</td>\n",
       "    </tr>\n",
       "    <tr>\n",
       "      <th>29</th>\n",
       "      <td>30.Darna Mana Hai(2003)</td>\n",
       "      <td>(2003)</td>\n",
       "      <td>6.3</td>\n",
       "    </tr>\n",
       "    <tr>\n",
       "      <th>30</th>\n",
       "      <td>31.Munna Bhai M.B.B.S.(2003)</td>\n",
       "      <td>(2003)</td>\n",
       "      <td>8.1</td>\n",
       "    </tr>\n",
       "    <tr>\n",
       "      <th>31</th>\n",
       "      <td>32.Khakee(2004)</td>\n",
       "      <td>(2004)</td>\n",
       "      <td>7.4</td>\n",
       "    </tr>\n",
       "    <tr>\n",
       "      <th>32</th>\n",
       "      <td>33.Veer-Zaara(2004)</td>\n",
       "      <td>(2004)</td>\n",
       "      <td>7.8</td>\n",
       "    </tr>\n",
       "    <tr>\n",
       "      <th>33</th>\n",
       "      <td>34.Swades: We, the People(2004)</td>\n",
       "      <td>(2004)</td>\n",
       "      <td>8.2</td>\n",
       "    </tr>\n",
       "    <tr>\n",
       "      <th>34</th>\n",
       "      <td>35.Main, Meri Patni... Aur Woh!(2005)</td>\n",
       "      <td>(2005)</td>\n",
       "      <td>7.2</td>\n",
       "    </tr>\n",
       "    <tr>\n",
       "      <th>35</th>\n",
       "      <td>36.Garam Masala(2005)</td>\n",
       "      <td>(2005)</td>\n",
       "      <td>6.7</td>\n",
       "    </tr>\n",
       "    <tr>\n",
       "      <th>36</th>\n",
       "      <td>37.Don(I) (2006)</td>\n",
       "      <td>(I) (2006)</td>\n",
       "      <td>7.1</td>\n",
       "    </tr>\n",
       "    <tr>\n",
       "      <th>37</th>\n",
       "      <td>38.Guru(2007)</td>\n",
       "      <td>(2007)</td>\n",
       "      <td>7.7</td>\n",
       "    </tr>\n",
       "    <tr>\n",
       "      <th>38</th>\n",
       "      <td>39.Chak De! India(2007)</td>\n",
       "      <td>(2007)</td>\n",
       "      <td>8.1</td>\n",
       "    </tr>\n",
       "    <tr>\n",
       "      <th>39</th>\n",
       "      <td>40.No Smoking(2007)</td>\n",
       "      <td>(2007)</td>\n",
       "      <td>7.3</td>\n",
       "    </tr>\n",
       "    <tr>\n",
       "      <th>40</th>\n",
       "      <td>41.A Wednesday(2008)</td>\n",
       "      <td>(2008)</td>\n",
       "      <td>8.1</td>\n",
       "    </tr>\n",
       "    <tr>\n",
       "      <th>41</th>\n",
       "      <td>42.3 Idiots(2009)</td>\n",
       "      <td>(2009)</td>\n",
       "      <td>8.4</td>\n",
       "    </tr>\n",
       "    <tr>\n",
       "      <th>42</th>\n",
       "      <td>43.My Name Is Khan(2010)</td>\n",
       "      <td>(2010)</td>\n",
       "      <td>7.9</td>\n",
       "    </tr>\n",
       "    <tr>\n",
       "      <th>43</th>\n",
       "      <td>44.Guzaarish(2010)</td>\n",
       "      <td>(2010)</td>\n",
       "      <td>7.4</td>\n",
       "    </tr>\n",
       "    <tr>\n",
       "      <th>44</th>\n",
       "      <td>45.Zindagi Na Milegi Dobara(2011)</td>\n",
       "      <td>(2011)</td>\n",
       "      <td>8.2</td>\n",
       "    </tr>\n",
       "    <tr>\n",
       "      <th>45</th>\n",
       "      <td>46.Rockstar(2011)</td>\n",
       "      <td>(2011)</td>\n",
       "      <td>7.7</td>\n",
       "    </tr>\n",
       "    <tr>\n",
       "      <th>46</th>\n",
       "      <td>47.Don 2(2011)</td>\n",
       "      <td>(2011)</td>\n",
       "      <td>7</td>\n",
       "    </tr>\n",
       "    <tr>\n",
       "      <th>47</th>\n",
       "      <td>48.Piku(2015)</td>\n",
       "      <td>(2015)</td>\n",
       "      <td>7.6</td>\n",
       "    </tr>\n",
       "    <tr>\n",
       "      <th>48</th>\n",
       "      <td>49.Airlift(2016)</td>\n",
       "      <td>(2016)</td>\n",
       "      <td>7.9</td>\n",
       "    </tr>\n",
       "    <tr>\n",
       "      <th>49</th>\n",
       "      <td>50.Andhadhun(2018)</td>\n",
       "      <td>(2018)</td>\n",
       "      <td>8.2</td>\n",
       "    </tr>\n",
       "  </tbody>\n",
       "</table>\n",
       "</div>"
      ],
      "text/plain": [
       "                                   Movies Name Released Year Movie Ratings\n",
       "0                               1.Awaara(1951)        (1951)           7.8\n",
       "1                            2.Shree 420(1955)        (1955)           7.9\n",
       "2                               3.Pyaasa(1957)        (1957)           8.3\n",
       "3                            4.Madhumati(1958)        (1958)           7.8\n",
       "4                               5.Kanoon(1960)        (1960)           7.9\n",
       "5                        6.Mughal-E-Azam(1960)        (1960)           8.1\n",
       "6                           7.Kala Bazar(1960)        (1960)           7.1\n",
       "7                        8.Woh Kaun Thi?(1964)        (1964)           7.5\n",
       "8                                9.Guide(1965)        (1965)           8.4\n",
       "9                            10.Amrapali(1966)        (1966)           6.7\n",
       "10                              11.Anand(1971)        (1971)           8.1\n",
       "11                        12.Rajnigandha(1974)        (1974)           7.3\n",
       "12      13.Arvind Desai Ki Ajeeb Dastaan(1978)        (1978)           7.2\n",
       "13                     14.Satte Pe Satta(1982)        (1982)           7.2\n",
       "14                       15.Disco Dancer(1982)        (1982)           6.4\n",
       "15                 16.Jaane Bhi Do Yaaro(1983)        (1983)           8.3\n",
       "16                         17.Ardh Satya(1983)        (1983)           8.1\n",
       "17                              18.Katha(1983)        (1983)           7.7\n",
       "18                            19.Parinda(1989)        (1989)           7.8\n",
       "19                           20.Baazigar(1993)        (1993)           7.6\n",
       "20                               21.Darr(1993)        (1993)           7.6\n",
       "21                           22.Rangeela(1995)        (1995)           7.4\n",
       "22        23.Dilwale Dulhania Le Jayenge(1995)        (1995)             8\n",
       "23                         24.Border(I) (1997)    (I) (1997)           7.9\n",
       "24                              25.Satya(1998)        (1998)           8.3\n",
       "25                              26.Kaun?(1999)        (1999)           7.8\n",
       "26  27.Lagaan: Once Upon a Time in India(2001)        (2001)           8.1\n",
       "27                            28.Company(2002)        (2002)             8\n",
       "28                              29.Bhoot(2003)        (2003)           6.4\n",
       "29                     30.Darna Mana Hai(2003)        (2003)           6.3\n",
       "30                31.Munna Bhai M.B.B.S.(2003)        (2003)           8.1\n",
       "31                             32.Khakee(2004)        (2004)           7.4\n",
       "32                         33.Veer-Zaara(2004)        (2004)           7.8\n",
       "33             34.Swades: We, the People(2004)        (2004)           8.2\n",
       "34       35.Main, Meri Patni... Aur Woh!(2005)        (2005)           7.2\n",
       "35                       36.Garam Masala(2005)        (2005)           6.7\n",
       "36                            37.Don(I) (2006)    (I) (2006)           7.1\n",
       "37                               38.Guru(2007)        (2007)           7.7\n",
       "38                     39.Chak De! India(2007)        (2007)           8.1\n",
       "39                         40.No Smoking(2007)        (2007)           7.3\n",
       "40                        41.A Wednesday(2008)        (2008)           8.1\n",
       "41                           42.3 Idiots(2009)        (2009)           8.4\n",
       "42                    43.My Name Is Khan(2010)        (2010)           7.9\n",
       "43                          44.Guzaarish(2010)        (2010)           7.4\n",
       "44           45.Zindagi Na Milegi Dobara(2011)        (2011)           8.2\n",
       "45                           46.Rockstar(2011)        (2011)           7.7\n",
       "46                              47.Don 2(2011)        (2011)             7\n",
       "47                               48.Piku(2015)        (2015)           7.6\n",
       "48                            49.Airlift(2016)        (2016)           7.9\n",
       "49                          50.Andhadhun(2018)        (2018)           8.2"
      ]
     },
     "execution_count": 19,
     "metadata": {},
     "output_type": "execute_result"
    }
   ],
   "source": [
    "df=pd.DataFrame({\"Movies Name\":movies_name,\"Released Year\":year_of_release,\"Movie Ratings\":movies_rating})\n",
    "df"
   ]
  },
  {
   "cell_type": "markdown",
   "id": "ad1b1041",
   "metadata": {},
   "source": [
    "## Q NO 4"
   ]
  },
  {
   "cell_type": "code",
   "execution_count": 20,
   "id": "b6890114",
   "metadata": {},
   "outputs": [
    {
     "data": {
      "text/plain": [
       "<Response [200]>"
      ]
     },
     "execution_count": 20,
     "metadata": {},
     "output_type": "execute_result"
    }
   ],
   "source": [
    "page = requests.get('https://presidentofindia.nic.in/former-presidents.htm')\n",
    "page"
   ]
  },
  {
   "cell_type": "code",
   "execution_count": 21,
   "id": "03cb1524",
   "metadata": {},
   "outputs": [],
   "source": [
    "# page content\n",
    "soup = BeautifulSoup(page.content)"
   ]
  },
  {
   "cell_type": "code",
   "execution_count": 22,
   "id": "2d3cac1b",
   "metadata": {},
   "outputs": [],
   "source": [
    "presidents_name=[]\n",
    "for i in soup.find_all('div',class_=\"presidentListing\"):\n",
    "    presidents_name.append(i.text.split('\\n')[1:2])"
   ]
  },
  {
   "cell_type": "code",
   "execution_count": 23,
   "id": "7284b247",
   "metadata": {},
   "outputs": [],
   "source": [
    "term_of_office=[]\n",
    "for i in soup.find_all('div',class_=\"presidentListing\"):\n",
    "    term_of_office.append(i.text.split('\\n')[2:3])"
   ]
  },
  {
   "cell_type": "code",
   "execution_count": 24,
   "id": "996867b1",
   "metadata": {},
   "outputs": [
    {
     "name": "stdout",
     "output_type": "stream",
     "text": [
      "14 14\n"
     ]
    }
   ],
   "source": [
    "print(len(term_of_office),len(presidents_name))"
   ]
  },
  {
   "cell_type": "code",
   "execution_count": 25,
   "id": "d2406579",
   "metadata": {},
   "outputs": [
    {
     "data": {
      "text/html": [
       "<div>\n",
       "<style scoped>\n",
       "    .dataframe tbody tr th:only-of-type {\n",
       "        vertical-align: middle;\n",
       "    }\n",
       "\n",
       "    .dataframe tbody tr th {\n",
       "        vertical-align: top;\n",
       "    }\n",
       "\n",
       "    .dataframe thead th {\n",
       "        text-align: right;\n",
       "    }\n",
       "</style>\n",
       "<table border=\"1\" class=\"dataframe\">\n",
       "  <thead>\n",
       "    <tr style=\"text-align: right;\">\n",
       "      <th></th>\n",
       "      <th>Presidents Name</th>\n",
       "      <th>Term of Office</th>\n",
       "    </tr>\n",
       "  </thead>\n",
       "  <tbody>\n",
       "    <tr>\n",
       "      <th>0</th>\n",
       "      <td>[Shri Ram Nath Kovind (birth - 1945)]</td>\n",
       "      <td>[Term of Office: 25 July, 2017 to 25 July, 2022 ]</td>\n",
       "    </tr>\n",
       "    <tr>\n",
       "      <th>1</th>\n",
       "      <td>[Shri Pranab Mukherjee (1935-2020)]</td>\n",
       "      <td>[Term of Office: 25 July, 2012 to 25 July, 2017 ]</td>\n",
       "    </tr>\n",
       "    <tr>\n",
       "      <th>2</th>\n",
       "      <td>[Smt Pratibha Devisingh Patil (birth - 1934)]</td>\n",
       "      <td>[Term of Office: 25 July, 2007 to 25 July, 2012 ]</td>\n",
       "    </tr>\n",
       "    <tr>\n",
       "      <th>3</th>\n",
       "      <td>[DR. A.P.J. Abdul Kalam (1931-2015)]</td>\n",
       "      <td>[Term of Office: 25 July, 2002 to 25 July, 2007 ]</td>\n",
       "    </tr>\n",
       "    <tr>\n",
       "      <th>4</th>\n",
       "      <td>[Shri K. R. Narayanan (1920 - 2005)]</td>\n",
       "      <td>[Term of Office: 25 July, 1997 to 25 July, 2002 ]</td>\n",
       "    </tr>\n",
       "    <tr>\n",
       "      <th>5</th>\n",
       "      <td>[Dr Shankar Dayal Sharma (1918-1999)]</td>\n",
       "      <td>[Term of Office: 25 July, 1992 to 25 July, 1997 ]</td>\n",
       "    </tr>\n",
       "    <tr>\n",
       "      <th>6</th>\n",
       "      <td>[Shri R Venkataraman (1910-2009)]</td>\n",
       "      <td>[Term of Office: 25 July, 1987 to 25 July, 1992 ]</td>\n",
       "    </tr>\n",
       "    <tr>\n",
       "      <th>7</th>\n",
       "      <td>[Giani Zail Singh (1916-1994)]</td>\n",
       "      <td>[Term of Office: 25 July, 1982 to 25 July, 1987 ]</td>\n",
       "    </tr>\n",
       "    <tr>\n",
       "      <th>8</th>\n",
       "      <td>[Shri Neelam Sanjiva Reddy (1913-1996)]</td>\n",
       "      <td>[Term of Office: 25 July, 1977 to 25 July, 1982 ]</td>\n",
       "    </tr>\n",
       "    <tr>\n",
       "      <th>9</th>\n",
       "      <td>[Dr. Fakhruddin Ali Ahmed (1905-1977)]</td>\n",
       "      <td>[Term of Office: 24 August, 1974 to 11 Februar...</td>\n",
       "    </tr>\n",
       "    <tr>\n",
       "      <th>10</th>\n",
       "      <td>[Shri Varahagiri Venkata Giri (1894-1980)]</td>\n",
       "      <td>[Term of Office: 3 May, 1969 to 20 July, 1969 ...</td>\n",
       "    </tr>\n",
       "    <tr>\n",
       "      <th>11</th>\n",
       "      <td>[Dr. Zakir Husain (1897-1969)]</td>\n",
       "      <td>[Term of Office: 13 May, 1967 to 3 May, 1969]</td>\n",
       "    </tr>\n",
       "    <tr>\n",
       "      <th>12</th>\n",
       "      <td>[Dr. Sarvepalli Radhakrishnan (1888-1975)]</td>\n",
       "      <td>[Term of Office: 13 May, 1962 to 13 May, 1967]</td>\n",
       "    </tr>\n",
       "    <tr>\n",
       "      <th>13</th>\n",
       "      <td>[Dr. Rajendra Prasad (1884-1963) ]</td>\n",
       "      <td>[Term of Office: 26 January, 1950 to 13 May, 1...</td>\n",
       "    </tr>\n",
       "  </tbody>\n",
       "</table>\n",
       "</div>"
      ],
      "text/plain": [
       "                                  Presidents Name  \\\n",
       "0           [Shri Ram Nath Kovind (birth - 1945)]   \n",
       "1             [Shri Pranab Mukherjee (1935-2020)]   \n",
       "2   [Smt Pratibha Devisingh Patil (birth - 1934)]   \n",
       "3            [DR. A.P.J. Abdul Kalam (1931-2015)]   \n",
       "4            [Shri K. R. Narayanan (1920 - 2005)]   \n",
       "5           [Dr Shankar Dayal Sharma (1918-1999)]   \n",
       "6               [Shri R Venkataraman (1910-2009)]   \n",
       "7                  [Giani Zail Singh (1916-1994)]   \n",
       "8         [Shri Neelam Sanjiva Reddy (1913-1996)]   \n",
       "9          [Dr. Fakhruddin Ali Ahmed (1905-1977)]   \n",
       "10     [Shri Varahagiri Venkata Giri (1894-1980)]   \n",
       "11                 [Dr. Zakir Husain (1897-1969)]   \n",
       "12     [Dr. Sarvepalli Radhakrishnan (1888-1975)]   \n",
       "13             [Dr. Rajendra Prasad (1884-1963) ]   \n",
       "\n",
       "                                       Term of Office  \n",
       "0   [Term of Office: 25 July, 2017 to 25 July, 2022 ]  \n",
       "1   [Term of Office: 25 July, 2012 to 25 July, 2017 ]  \n",
       "2   [Term of Office: 25 July, 2007 to 25 July, 2012 ]  \n",
       "3   [Term of Office: 25 July, 2002 to 25 July, 2007 ]  \n",
       "4   [Term of Office: 25 July, 1997 to 25 July, 2002 ]  \n",
       "5   [Term of Office: 25 July, 1992 to 25 July, 1997 ]  \n",
       "6   [Term of Office: 25 July, 1987 to 25 July, 1992 ]  \n",
       "7   [Term of Office: 25 July, 1982 to 25 July, 1987 ]  \n",
       "8   [Term of Office: 25 July, 1977 to 25 July, 1982 ]  \n",
       "9   [Term of Office: 24 August, 1974 to 11 Februar...  \n",
       "10  [Term of Office: 3 May, 1969 to 20 July, 1969 ...  \n",
       "11      [Term of Office: 13 May, 1967 to 3 May, 1969]  \n",
       "12     [Term of Office: 13 May, 1962 to 13 May, 1967]  \n",
       "13  [Term of Office: 26 January, 1950 to 13 May, 1...  "
      ]
     },
     "execution_count": 25,
     "metadata": {},
     "output_type": "execute_result"
    }
   ],
   "source": [
    "df=pd.DataFrame({\"Presidents Name\":presidents_name,\"Term of Office\":term_of_office})\n",
    "df"
   ]
  },
  {
   "cell_type": "markdown",
   "id": "33ee6007",
   "metadata": {},
   "source": [
    "# Q NO 5"
   ]
  },
  {
   "cell_type": "code",
   "execution_count": 26,
   "id": "e2a56361",
   "metadata": {},
   "outputs": [
    {
     "data": {
      "text/plain": [
       "<Response [200]>"
      ]
     },
     "execution_count": 26,
     "metadata": {},
     "output_type": "execute_result"
    }
   ],
   "source": [
    "page = requests.get(\"https://www.icc-cricket.com/rankings/mens/team-rankings/odi\")\n",
    "page"
   ]
  },
  {
   "cell_type": "code",
   "execution_count": 27,
   "id": "cb1a3458",
   "metadata": {},
   "outputs": [],
   "source": [
    "soup = BeautifulSoup(page.content)"
   ]
  },
  {
   "cell_type": "code",
   "execution_count": 28,
   "id": "346cc3e3",
   "metadata": {},
   "outputs": [
    {
     "data": {
      "text/plain": [
       "['35']"
      ]
     },
     "execution_count": 28,
     "metadata": {},
     "output_type": "execute_result"
    }
   ],
   "source": [
    "match1 =[]\n",
    "for i in soup.find_all('td',class_=\"rankings-block__banner--matches\"):\n",
    "    match1.append(i.text)\n",
    "match1"
   ]
  },
  {
   "cell_type": "code",
   "execution_count": 29,
   "id": "40f5d8a4",
   "metadata": {},
   "outputs": [
    {
     "data": {
      "text/plain": [
       "['47', '30', '36', '25', '29', '38', '35', '43', '20', '27']"
      ]
     },
     "execution_count": 29,
     "metadata": {},
     "output_type": "execute_result"
    }
   ],
   "source": [
    "match2 =[]\n",
    "for i in soup.find_all('tr',class_=\"table-body\"):\n",
    "    match2.append(i.text.split('\\n')[7])\n",
    "match2[0:10]"
   ]
  },
  {
   "cell_type": "code",
   "execution_count": 30,
   "id": "ebf65abb",
   "metadata": {},
   "outputs": [
    {
     "data": {
      "text/plain": [
       "['35', '47', '30', '36', '25', '29', '38', '35', '43', '20']"
      ]
     },
     "execution_count": 30,
     "metadata": {},
     "output_type": "execute_result"
    }
   ],
   "source": [
    "match=(match1 + match2)\n",
    "match[0:10]"
   ]
  },
  {
   "cell_type": "code",
   "execution_count": 31,
   "id": "f1f3bf1e",
   "metadata": {},
   "outputs": [
    {
     "data": {
      "text/plain": [
       "['3,965']"
      ]
     },
     "execution_count": 31,
     "metadata": {},
     "output_type": "execute_result"
    }
   ],
   "source": [
    "points1 =[]\n",
    "for i in soup.find_all('td',class_=\"rankings-block__banner--points\"):\n",
    "    points1.append(i.text)\n",
    "points1"
   ]
  },
  {
   "cell_type": "code",
   "execution_count": 32,
   "id": "75e796be",
   "metadata": {},
   "outputs": [
    {
     "data": {
      "text/plain": [
       "['5,294',\n",
       " '3,367',\n",
       " '3,988',\n",
       " '2,649',\n",
       " '2,919',\n",
       " '3,625',\n",
       " '3,037',\n",
       " '3,105',\n",
       " '1,419',\n",
       " '1,384']"
      ]
     },
     "execution_count": 32,
     "metadata": {},
     "output_type": "execute_result"
    }
   ],
   "source": [
    "points2 =[]\n",
    "for i in soup.find_all('tr',class_=\"table-body\"):\n",
    "    points2.append(i.text.split('\\n')[8])\n",
    "points2[0:10]"
   ]
  },
  {
   "cell_type": "code",
   "execution_count": 33,
   "id": "3f380804",
   "metadata": {},
   "outputs": [
    {
     "data": {
      "text/plain": [
       "['3,965',\n",
       " '5,294',\n",
       " '3,367',\n",
       " '3,988',\n",
       " '2,649',\n",
       " '2,919',\n",
       " '3,625',\n",
       " '3,037',\n",
       " '3,105',\n",
       " '1,419']"
      ]
     },
     "execution_count": 33,
     "metadata": {},
     "output_type": "execute_result"
    }
   ],
   "source": [
    "points=(points1 + points2)\n",
    "points[0:10]"
   ]
  },
  {
   "cell_type": "code",
   "execution_count": 34,
   "id": "16027d42",
   "metadata": {},
   "outputs": [
    {
     "data": {
      "text/plain": [
       "['                            113']"
      ]
     },
     "execution_count": 34,
     "metadata": {},
     "output_type": "execute_result"
    }
   ],
   "source": [
    "rating1 =[]\n",
    "for i in soup.find_all('td',class_=\"rankings-block__banner--rating u-text-right\"):\n",
    "    rating1.append(i.text.split('\\n')[1])\n",
    "rating1"
   ]
  },
  {
   "cell_type": "code",
   "execution_count": 35,
   "id": "712ad28e",
   "metadata": {},
   "outputs": [
    {
     "data": {
      "text/plain": [
       "['113', '112', '111', '106', '101', '95', '87', '72', '71', '51']"
      ]
     },
     "execution_count": 35,
     "metadata": {},
     "output_type": "execute_result"
    }
   ],
   "source": [
    "rating2 =[]\n",
    "for i in soup.find_all('td',class_=\"table-body__cell u-text-right rating\"):\n",
    "    rating2.append(i.text)\n",
    "rating2[0:10]"
   ]
  },
  {
   "cell_type": "code",
   "execution_count": 36,
   "id": "528a9e8c",
   "metadata": {},
   "outputs": [
    {
     "data": {
      "text/plain": [
       "['                            113',\n",
       " '113',\n",
       " '112',\n",
       " '111',\n",
       " '106',\n",
       " '101',\n",
       " '95',\n",
       " '87',\n",
       " '72',\n",
       " '71']"
      ]
     },
     "execution_count": 36,
     "metadata": {},
     "output_type": "execute_result"
    }
   ],
   "source": [
    "rating=(rating1 + rating2)\n",
    "rating[0:10]"
   ]
  },
  {
   "cell_type": "code",
   "execution_count": 37,
   "id": "1fdaab3d",
   "metadata": {},
   "outputs": [
    {
     "data": {
      "text/html": [
       "<div>\n",
       "<style scoped>\n",
       "    .dataframe tbody tr th:only-of-type {\n",
       "        vertical-align: middle;\n",
       "    }\n",
       "\n",
       "    .dataframe tbody tr th {\n",
       "        vertical-align: top;\n",
       "    }\n",
       "\n",
       "    .dataframe thead th {\n",
       "        text-align: right;\n",
       "    }\n",
       "</style>\n",
       "<table border=\"1\" class=\"dataframe\">\n",
       "  <thead>\n",
       "    <tr style=\"text-align: right;\">\n",
       "      <th></th>\n",
       "      <th>Match</th>\n",
       "      <th>Points</th>\n",
       "      <th>Rating</th>\n",
       "    </tr>\n",
       "  </thead>\n",
       "  <tbody>\n",
       "    <tr>\n",
       "      <th>0</th>\n",
       "      <td>35</td>\n",
       "      <td>3,965</td>\n",
       "      <td>113</td>\n",
       "    </tr>\n",
       "    <tr>\n",
       "      <th>1</th>\n",
       "      <td>47</td>\n",
       "      <td>5,294</td>\n",
       "      <td>113</td>\n",
       "    </tr>\n",
       "    <tr>\n",
       "      <th>2</th>\n",
       "      <td>30</td>\n",
       "      <td>3,367</td>\n",
       "      <td>112</td>\n",
       "    </tr>\n",
       "    <tr>\n",
       "      <th>3</th>\n",
       "      <td>36</td>\n",
       "      <td>3,988</td>\n",
       "      <td>111</td>\n",
       "    </tr>\n",
       "    <tr>\n",
       "      <th>4</th>\n",
       "      <td>25</td>\n",
       "      <td>2,649</td>\n",
       "      <td>106</td>\n",
       "    </tr>\n",
       "    <tr>\n",
       "      <th>5</th>\n",
       "      <td>29</td>\n",
       "      <td>2,919</td>\n",
       "      <td>101</td>\n",
       "    </tr>\n",
       "    <tr>\n",
       "      <th>6</th>\n",
       "      <td>38</td>\n",
       "      <td>3,625</td>\n",
       "      <td>95</td>\n",
       "    </tr>\n",
       "    <tr>\n",
       "      <th>7</th>\n",
       "      <td>35</td>\n",
       "      <td>3,037</td>\n",
       "      <td>87</td>\n",
       "    </tr>\n",
       "    <tr>\n",
       "      <th>8</th>\n",
       "      <td>43</td>\n",
       "      <td>3,105</td>\n",
       "      <td>72</td>\n",
       "    </tr>\n",
       "    <tr>\n",
       "      <th>9</th>\n",
       "      <td>20</td>\n",
       "      <td>1,419</td>\n",
       "      <td>71</td>\n",
       "    </tr>\n",
       "  </tbody>\n",
       "</table>\n",
       "</div>"
      ],
      "text/plain": [
       "  Match Points                           Rating\n",
       "0    35  3,965                              113\n",
       "1    47  5,294                              113\n",
       "2    30  3,367                              112\n",
       "3    36  3,988                              111\n",
       "4    25  2,649                              106\n",
       "5    29  2,919                              101\n",
       "6    38  3,625                               95\n",
       "7    35  3,037                               87\n",
       "8    43  3,105                               72\n",
       "9    20  1,419                               71"
      ]
     },
     "execution_count": 37,
     "metadata": {},
     "output_type": "execute_result"
    }
   ],
   "source": [
    "df=pd.DataFrame({\"Match\":match,\"Points\":points,\"Rating\":rating})\n",
    "df[:10]"
   ]
  },
  {
   "cell_type": "markdown",
   "id": "0011cb5d",
   "metadata": {},
   "source": [
    "# Q NO 6"
   ]
  },
  {
   "cell_type": "code",
   "execution_count": 38,
   "id": "136faf97",
   "metadata": {},
   "outputs": [
    {
     "data": {
      "text/plain": [
       "<Response [200]>"
      ]
     },
     "execution_count": 38,
     "metadata": {},
     "output_type": "execute_result"
    }
   ],
   "source": [
    "page = requests.get(\"https://www.icc-cricket.com/rankings/womens/team-rankings/odi\")\n",
    "page"
   ]
  },
  {
   "cell_type": "code",
   "execution_count": 39,
   "id": "31991ce5",
   "metadata": {},
   "outputs": [],
   "source": [
    "soup = BeautifulSoup(page.content)"
   ]
  },
  {
   "cell_type": "code",
   "execution_count": 40,
   "id": "4c98ce00",
   "metadata": {},
   "outputs": [
    {
     "data": {
      "text/plain": [
       "['21']"
      ]
     },
     "execution_count": 40,
     "metadata": {},
     "output_type": "execute_result"
    }
   ],
   "source": [
    "match1 =[]\n",
    "for i in soup.find_all('td',class_=\"rankings-block__banner--matches\"):\n",
    "    match1.append(i.text)\n",
    "match1"
   ]
  },
  {
   "cell_type": "code",
   "execution_count": 41,
   "id": "28c2b9d1",
   "metadata": {},
   "outputs": [
    {
     "data": {
      "text/plain": [
       "['28', '26', '27', '25', '27', '13', '8', '27', '8', '14']"
      ]
     },
     "execution_count": 41,
     "metadata": {},
     "output_type": "execute_result"
    }
   ],
   "source": [
    "match2 =[]\n",
    "for i in soup.find_all('tr',class_=\"table-body\"):\n",
    "    match2.append(i.text.split('\\n')[7])\n",
    "match2[0:10]"
   ]
  },
  {
   "cell_type": "code",
   "execution_count": 42,
   "id": "24f656cf",
   "metadata": {},
   "outputs": [
    {
     "data": {
      "text/plain": [
       "['21', '28', '26', '27', '25', '27', '13', '8', '27', '8']"
      ]
     },
     "execution_count": 42,
     "metadata": {},
     "output_type": "execute_result"
    }
   ],
   "source": [
    "match=(match1 + match2)\n",
    "match[0:10]"
   ]
  },
  {
   "cell_type": "code",
   "execution_count": 43,
   "id": "5bec332f",
   "metadata": {},
   "outputs": [
    {
     "data": {
      "text/plain": [
       "['3,603']"
      ]
     },
     "execution_count": 43,
     "metadata": {},
     "output_type": "execute_result"
    }
   ],
   "source": [
    "points1 =[]\n",
    "for i in soup.find_all('td',class_=\"rankings-block__banner--points\"):\n",
    "    points1.append(i.text)\n",
    "points1"
   ]
  },
  {
   "cell_type": "code",
   "execution_count": 44,
   "id": "0519658c",
   "metadata": {},
   "outputs": [
    {
     "data": {
      "text/plain": [
       "['3,342',\n",
       " '3,098',\n",
       " '2,820',\n",
       " '2,553',\n",
       " '2,535',\n",
       " '983',\n",
       " '572',\n",
       " '1,678',\n",
       " '353',\n",
       " '548']"
      ]
     },
     "execution_count": 44,
     "metadata": {},
     "output_type": "execute_result"
    }
   ],
   "source": [
    "points2 =[]\n",
    "for i in soup.find_all('tr',class_=\"table-body\"):\n",
    "    points2.append(i.text.split('\\n')[8])\n",
    "points2[0:10]"
   ]
  },
  {
   "cell_type": "code",
   "execution_count": 45,
   "id": "06aab184",
   "metadata": {},
   "outputs": [
    {
     "data": {
      "text/plain": [
       "['3,603',\n",
       " '3,342',\n",
       " '3,098',\n",
       " '2,820',\n",
       " '2,553',\n",
       " '2,535',\n",
       " '983',\n",
       " '572',\n",
       " '1,678',\n",
       " '353']"
      ]
     },
     "execution_count": 45,
     "metadata": {},
     "output_type": "execute_result"
    }
   ],
   "source": [
    "points=(points1 + points2)\n",
    "points[0:10]"
   ]
  },
  {
   "cell_type": "code",
   "execution_count": 46,
   "id": "67c3b892",
   "metadata": {},
   "outputs": [
    {
     "data": {
      "text/plain": [
       "['                            172']"
      ]
     },
     "execution_count": 46,
     "metadata": {},
     "output_type": "execute_result"
    }
   ],
   "source": [
    "rating1 =[]\n",
    "for i in soup.find_all('td',class_=\"rankings-block__banner--rating u-text-right\"):\n",
    "    rating1.append(i.text.split('\\n')[1])\n",
    "rating1"
   ]
  },
  {
   "cell_type": "code",
   "execution_count": 47,
   "id": "18813bb5",
   "metadata": {},
   "outputs": [
    {
     "data": {
      "text/plain": [
       "['119', '119', '104', '102', '94', '76', '72', '62', '44', '39']"
      ]
     },
     "execution_count": 47,
     "metadata": {},
     "output_type": "execute_result"
    }
   ],
   "source": [
    "rating2 =[]\n",
    "for i in soup.find_all('td',class_=\"table-body__cell u-text-right rating\"):\n",
    "    rating2.append(i.text)\n",
    "rating2[0:10]"
   ]
  },
  {
   "cell_type": "code",
   "execution_count": 48,
   "id": "95f815d5",
   "metadata": {},
   "outputs": [
    {
     "data": {
      "text/plain": [
       "['                            172',\n",
       " '119',\n",
       " '119',\n",
       " '104',\n",
       " '102',\n",
       " '94',\n",
       " '76',\n",
       " '72',\n",
       " '62',\n",
       " '44']"
      ]
     },
     "execution_count": 48,
     "metadata": {},
     "output_type": "execute_result"
    }
   ],
   "source": [
    "rating=(rating1 + rating2)\n",
    "rating[0:10]"
   ]
  },
  {
   "cell_type": "code",
   "execution_count": 49,
   "id": "b30bd739",
   "metadata": {},
   "outputs": [
    {
     "data": {
      "text/html": [
       "<div>\n",
       "<style scoped>\n",
       "    .dataframe tbody tr th:only-of-type {\n",
       "        vertical-align: middle;\n",
       "    }\n",
       "\n",
       "    .dataframe tbody tr th {\n",
       "        vertical-align: top;\n",
       "    }\n",
       "\n",
       "    .dataframe thead th {\n",
       "        text-align: right;\n",
       "    }\n",
       "</style>\n",
       "<table border=\"1\" class=\"dataframe\">\n",
       "  <thead>\n",
       "    <tr style=\"text-align: right;\">\n",
       "      <th></th>\n",
       "      <th>Match</th>\n",
       "      <th>Points</th>\n",
       "      <th>Rating</th>\n",
       "    </tr>\n",
       "  </thead>\n",
       "  <tbody>\n",
       "    <tr>\n",
       "      <th>0</th>\n",
       "      <td>21</td>\n",
       "      <td>3,603</td>\n",
       "      <td>172</td>\n",
       "    </tr>\n",
       "    <tr>\n",
       "      <th>1</th>\n",
       "      <td>28</td>\n",
       "      <td>3,342</td>\n",
       "      <td>119</td>\n",
       "    </tr>\n",
       "    <tr>\n",
       "      <th>2</th>\n",
       "      <td>26</td>\n",
       "      <td>3,098</td>\n",
       "      <td>119</td>\n",
       "    </tr>\n",
       "    <tr>\n",
       "      <th>3</th>\n",
       "      <td>27</td>\n",
       "      <td>2,820</td>\n",
       "      <td>104</td>\n",
       "    </tr>\n",
       "    <tr>\n",
       "      <th>4</th>\n",
       "      <td>25</td>\n",
       "      <td>2,553</td>\n",
       "      <td>102</td>\n",
       "    </tr>\n",
       "    <tr>\n",
       "      <th>5</th>\n",
       "      <td>27</td>\n",
       "      <td>2,535</td>\n",
       "      <td>94</td>\n",
       "    </tr>\n",
       "    <tr>\n",
       "      <th>6</th>\n",
       "      <td>13</td>\n",
       "      <td>983</td>\n",
       "      <td>76</td>\n",
       "    </tr>\n",
       "    <tr>\n",
       "      <th>7</th>\n",
       "      <td>8</td>\n",
       "      <td>572</td>\n",
       "      <td>72</td>\n",
       "    </tr>\n",
       "    <tr>\n",
       "      <th>8</th>\n",
       "      <td>27</td>\n",
       "      <td>1,678</td>\n",
       "      <td>62</td>\n",
       "    </tr>\n",
       "    <tr>\n",
       "      <th>9</th>\n",
       "      <td>8</td>\n",
       "      <td>353</td>\n",
       "      <td>44</td>\n",
       "    </tr>\n",
       "  </tbody>\n",
       "</table>\n",
       "</div>"
      ],
      "text/plain": [
       "  Match Points                           Rating\n",
       "0    21  3,603                              172\n",
       "1    28  3,342                              119\n",
       "2    26  3,098                              119\n",
       "3    27  2,820                              104\n",
       "4    25  2,553                              102\n",
       "5    27  2,535                               94\n",
       "6    13    983                               76\n",
       "7     8    572                               72\n",
       "8    27  1,678                               62\n",
       "9     8    353                               44"
      ]
     },
     "execution_count": 49,
     "metadata": {},
     "output_type": "execute_result"
    }
   ],
   "source": [
    "df=pd.DataFrame({\"Match\":match,\"Points\":points,\"Rating\":rating})\n",
    "df[:10]"
   ]
  },
  {
   "cell_type": "markdown",
   "id": "f351545d",
   "metadata": {},
   "source": [
    "# Q NO 7"
   ]
  },
  {
   "cell_type": "code",
   "execution_count": 50,
   "id": "32b422af",
   "metadata": {},
   "outputs": [
    {
     "data": {
      "text/plain": [
       "<Response [200]>"
      ]
     },
     "execution_count": 50,
     "metadata": {},
     "output_type": "execute_result"
    }
   ],
   "source": [
    "page = requests.get(\"https://www.cnbc.com/world/?region=world\")\n",
    "page"
   ]
  },
  {
   "cell_type": "code",
   "execution_count": 51,
   "id": "636bd66b",
   "metadata": {},
   "outputs": [],
   "source": [
    "soup = BeautifulSoup(page.content)"
   ]
  },
  {
   "cell_type": "code",
   "execution_count": 52,
   "id": "685109e6",
   "metadata": {},
   "outputs": [],
   "source": [
    "headline=[]\n",
    "for i in soup.find_all('a',class_=\"LatestNews-headline\"):\n",
    "    headline.append(i.text)"
   ]
  },
  {
   "cell_type": "code",
   "execution_count": 53,
   "id": "aef6c184",
   "metadata": {},
   "outputs": [],
   "source": [
    "time=[]\n",
    "for i in soup.find_all('span',class_=\"LatestNews-wrapper\"):\n",
    "    time.append(i.text)"
   ]
  },
  {
   "cell_type": "code",
   "execution_count": 54,
   "id": "126641c4",
   "metadata": {},
   "outputs": [],
   "source": [
    "link=[]\n",
    "for i in soup.find_all('div',class_=\"LatestNews-container\"):\n",
    "    link.append(i.find('a',class_=\"LatestNews-headline\").get(\"href\"))"
   ]
  },
  {
   "cell_type": "code",
   "execution_count": 55,
   "id": "8c79a15a",
   "metadata": {},
   "outputs": [
    {
     "name": "stdout",
     "output_type": "stream",
     "text": [
      "30 30 30\n"
     ]
    }
   ],
   "source": [
    "print(len(headline),len(time),len(link))"
   ]
  },
  {
   "cell_type": "code",
   "execution_count": 56,
   "id": "115df68e",
   "metadata": {},
   "outputs": [
    {
     "data": {
      "text/html": [
       "<div>\n",
       "<style scoped>\n",
       "    .dataframe tbody tr th:only-of-type {\n",
       "        vertical-align: middle;\n",
       "    }\n",
       "\n",
       "    .dataframe tbody tr th {\n",
       "        vertical-align: top;\n",
       "    }\n",
       "\n",
       "    .dataframe thead th {\n",
       "        text-align: right;\n",
       "    }\n",
       "</style>\n",
       "<table border=\"1\" class=\"dataframe\">\n",
       "  <thead>\n",
       "    <tr style=\"text-align: right;\">\n",
       "      <th></th>\n",
       "      <th>Headline</th>\n",
       "      <th>Time</th>\n",
       "      <th>News Link</th>\n",
       "    </tr>\n",
       "  </thead>\n",
       "  <tbody>\n",
       "    <tr>\n",
       "      <th>0</th>\n",
       "      <td>Hot off up quarter for stocks, investors turn ...</td>\n",
       "      <td>12 Min Ago</td>\n",
       "      <td>https://www.cnbc.com/2023/04/01/hot-off-a-posi...</td>\n",
       "    </tr>\n",
       "    <tr>\n",
       "      <th>1</th>\n",
       "      <td>30-day money challenge to get smarter and more...</td>\n",
       "      <td>1 Hour Ago</td>\n",
       "      <td>https://www.cnbc.com/2023/04/01/financial-lite...</td>\n",
       "    </tr>\n",
       "    <tr>\n",
       "      <th>2</th>\n",
       "      <td>Tipping in the United States has gotten out of...</td>\n",
       "      <td>2 Hours Ago</td>\n",
       "      <td>https://www.cnbc.com/2023/04/01/how-tipping-in...</td>\n",
       "    </tr>\n",
       "    <tr>\n",
       "      <th>3</th>\n",
       "      <td>These stocks are a must-own as market uncertai...</td>\n",
       "      <td>2 Hours Ago</td>\n",
       "      <td>https://www.cnbc.com/2023/04/01/analysts-say-b...</td>\n",
       "    </tr>\n",
       "    <tr>\n",
       "      <th>4</th>\n",
       "      <td>ETF outlook: Why Wall Street strategists aren'...</td>\n",
       "      <td>2 Hours Ago</td>\n",
       "      <td>https://www.cnbc.com/2023/04/01/quarterly-inve...</td>\n",
       "    </tr>\n",
       "    <tr>\n",
       "      <th>5</th>\n",
       "      <td>Markets and economy survived tough first quart...</td>\n",
       "      <td>2 Hours Ago</td>\n",
       "      <td>https://www.cnbc.com/2023/04/01/quarterly-inve...</td>\n",
       "    </tr>\n",
       "    <tr>\n",
       "      <th>6</th>\n",
       "      <td>Pet stocks are a hit or miss as consumer spend...</td>\n",
       "      <td>14 Hours Ago</td>\n",
       "      <td>https://www.cnbc.com/2023/03/31/pet-stocks-are...</td>\n",
       "    </tr>\n",
       "    <tr>\n",
       "      <th>7</th>\n",
       "      <td>Pro Picks: Watch all of Friday's big stock cal...</td>\n",
       "      <td>17 Hours Ago</td>\n",
       "      <td>https://www.cnbc.com/2023/03/31/pro-picks-watc...</td>\n",
       "    </tr>\n",
       "    <tr>\n",
       "      <th>8</th>\n",
       "      <td>Here are our 4 best stocks — and 4 worst stock...</td>\n",
       "      <td>17 Hours Ago</td>\n",
       "      <td>https://www.cnbc.com/2023/03/31/first-quarter-...</td>\n",
       "    </tr>\n",
       "    <tr>\n",
       "      <th>9</th>\n",
       "      <td>Judge allows Dominion's $1.6 billion defamatio...</td>\n",
       "      <td>18 Hours Ago</td>\n",
       "      <td>https://www.cnbc.com/2023/03/31/fox-motions-re...</td>\n",
       "    </tr>\n",
       "    <tr>\n",
       "      <th>10</th>\n",
       "      <td>Google founder, former Disney exec to get subp...</td>\n",
       "      <td>18 Hours Ago</td>\n",
       "      <td>https://www.cnbc.com/2023/03/31/google-founder...</td>\n",
       "    </tr>\n",
       "    <tr>\n",
       "      <th>11</th>\n",
       "      <td>Millions will start losing Medicaid coverage</td>\n",
       "      <td>18 Hours Ago</td>\n",
       "      <td>https://www.cnbc.com/2023/03/31/medicaid-milli...</td>\n",
       "    </tr>\n",
       "    <tr>\n",
       "      <th>12</th>\n",
       "      <td>Trump's campaign uses Facebook to fundraise of...</td>\n",
       "      <td>18 Hours Ago</td>\n",
       "      <td>https://www.cnbc.com/2023/03/31/trump-indictme...</td>\n",
       "    </tr>\n",
       "    <tr>\n",
       "      <th>13</th>\n",
       "      <td>Here's how Virgin Orbit fell apart</td>\n",
       "      <td>19 Hours Ago</td>\n",
       "      <td>https://www.cnbc.com/2023/03/31/virgin-orbit-w...</td>\n",
       "    </tr>\n",
       "    <tr>\n",
       "      <th>14</th>\n",
       "      <td>What to watch in the markets in the week ahead</td>\n",
       "      <td>19 Hours Ago</td>\n",
       "      <td>https://www.cnbc.com/2023/03/31/stocks-could-b...</td>\n",
       "    </tr>\n",
       "    <tr>\n",
       "      <th>15</th>\n",
       "      <td>How women are re-defining ambition to build ha...</td>\n",
       "      <td>19 Hours Ago</td>\n",
       "      <td>https://www.cnbc.com/2023/03/31/how-women-are-...</td>\n",
       "    </tr>\n",
       "    <tr>\n",
       "      <th>16</th>\n",
       "      <td>These stocks could benefit from lower tax refu...</td>\n",
       "      <td>20 Hours Ago</td>\n",
       "      <td>https://www.cnbc.com/2023/03/31/tax-refunds-ar...</td>\n",
       "    </tr>\n",
       "    <tr>\n",
       "      <th>17</th>\n",
       "      <td>U.S. appeals decision striking down free Obama...</td>\n",
       "      <td>20 Hours Ago</td>\n",
       "      <td>https://www.cnbc.com/2023/03/31/obamacare-bide...</td>\n",
       "    </tr>\n",
       "    <tr>\n",
       "      <th>18</th>\n",
       "      <td>The top 10 states with the longest life expect...</td>\n",
       "      <td>20 Hours Ago</td>\n",
       "      <td>https://www.cnbc.com/2023/03/31/top-10-states-...</td>\n",
       "    </tr>\n",
       "    <tr>\n",
       "      <th>19</th>\n",
       "      <td>This week's top S&amp;P 500 stocks include First R...</td>\n",
       "      <td>20 Hours Ago</td>\n",
       "      <td>https://www.cnbc.com/2023/03/31/weeks-top-sp-5...</td>\n",
       "    </tr>\n",
       "    <tr>\n",
       "      <th>20</th>\n",
       "      <td>‘Rust’ assistant director pleads guilty to gun...</td>\n",
       "      <td>20 Hours Ago</td>\n",
       "      <td>https://www.cnbc.com/2023/03/31/rust-assistant...</td>\n",
       "    </tr>\n",
       "    <tr>\n",
       "      <th>21</th>\n",
       "      <td>Investors 'are pretty afraid,' financial psych...</td>\n",
       "      <td>20 Hours Ago</td>\n",
       "      <td>https://www.cnbc.com/2023/03/31/financial-psyc...</td>\n",
       "    </tr>\n",
       "    <tr>\n",
       "      <th>22</th>\n",
       "      <td>Bitcoin posts its third straight positive mont...</td>\n",
       "      <td>21 Hours Ago</td>\n",
       "      <td>https://www.cnbc.com/2023/03/31/bitcoin-heads-...</td>\n",
       "    </tr>\n",
       "    <tr>\n",
       "      <th>23</th>\n",
       "      <td>Paying more and earning less: How inflation di...</td>\n",
       "      <td>21 Hours Ago</td>\n",
       "      <td>https://www.cnbc.com/2023/03/31/paying-more-an...</td>\n",
       "    </tr>\n",
       "    <tr>\n",
       "      <th>24</th>\n",
       "      <td>California to require half of all heavy trucks...</td>\n",
       "      <td>21 Hours Ago</td>\n",
       "      <td>https://www.cnbc.com/2023/03/31/california-req...</td>\n",
       "    </tr>\n",
       "    <tr>\n",
       "      <th>25</th>\n",
       "      <td>Tesla issues recall on Semi over defective bra...</td>\n",
       "      <td>21 Hours Ago</td>\n",
       "      <td>https://www.cnbc.com/2023/03/31/tesla-issues-r...</td>\n",
       "    </tr>\n",
       "    <tr>\n",
       "      <th>26</th>\n",
       "      <td>Investor Dan Niles likes these tech stocks hea...</td>\n",
       "      <td>21 Hours Ago</td>\n",
       "      <td>https://www.cnbc.com/2023/03/31/investor-dan-n...</td>\n",
       "    </tr>\n",
       "    <tr>\n",
       "      <th>27</th>\n",
       "      <td>Vince McMahon locks in two-year contract as WW...</td>\n",
       "      <td>21 Hours Ago</td>\n",
       "      <td>https://www.cnbc.com/2023/03/31/vince-mcmahon-...</td>\n",
       "    </tr>\n",
       "    <tr>\n",
       "      <th>28</th>\n",
       "      <td>As the cost of living skyrockets, money is the...</td>\n",
       "      <td>21 Hours Ago</td>\n",
       "      <td>https://www.cnbc.com/2023/03/31/financial-depe...</td>\n",
       "    </tr>\n",
       "    <tr>\n",
       "      <th>29</th>\n",
       "      <td>April is usually the best month for the Dow. H...</td>\n",
       "      <td>22 Hours Ago</td>\n",
       "      <td>https://www.cnbc.com/2023/03/31/april-is-usual...</td>\n",
       "    </tr>\n",
       "  </tbody>\n",
       "</table>\n",
       "</div>"
      ],
      "text/plain": [
       "                                             Headline          Time  \\\n",
       "0   Hot off up quarter for stocks, investors turn ...    12 Min Ago   \n",
       "1   30-day money challenge to get smarter and more...    1 Hour Ago   \n",
       "2   Tipping in the United States has gotten out of...   2 Hours Ago   \n",
       "3   These stocks are a must-own as market uncertai...   2 Hours Ago   \n",
       "4   ETF outlook: Why Wall Street strategists aren'...   2 Hours Ago   \n",
       "5   Markets and economy survived tough first quart...   2 Hours Ago   \n",
       "6   Pet stocks are a hit or miss as consumer spend...  14 Hours Ago   \n",
       "7   Pro Picks: Watch all of Friday's big stock cal...  17 Hours Ago   \n",
       "8   Here are our 4 best stocks — and 4 worst stock...  17 Hours Ago   \n",
       "9   Judge allows Dominion's $1.6 billion defamatio...  18 Hours Ago   \n",
       "10  Google founder, former Disney exec to get subp...  18 Hours Ago   \n",
       "11       Millions will start losing Medicaid coverage  18 Hours Ago   \n",
       "12  Trump's campaign uses Facebook to fundraise of...  18 Hours Ago   \n",
       "13                 Here's how Virgin Orbit fell apart  19 Hours Ago   \n",
       "14     What to watch in the markets in the week ahead  19 Hours Ago   \n",
       "15  How women are re-defining ambition to build ha...  19 Hours Ago   \n",
       "16  These stocks could benefit from lower tax refu...  20 Hours Ago   \n",
       "17  U.S. appeals decision striking down free Obama...  20 Hours Ago   \n",
       "18  The top 10 states with the longest life expect...  20 Hours Ago   \n",
       "19  This week's top S&P 500 stocks include First R...  20 Hours Ago   \n",
       "20  ‘Rust’ assistant director pleads guilty to gun...  20 Hours Ago   \n",
       "21  Investors 'are pretty afraid,' financial psych...  20 Hours Ago   \n",
       "22  Bitcoin posts its third straight positive mont...  21 Hours Ago   \n",
       "23  Paying more and earning less: How inflation di...  21 Hours Ago   \n",
       "24  California to require half of all heavy trucks...  21 Hours Ago   \n",
       "25  Tesla issues recall on Semi over defective bra...  21 Hours Ago   \n",
       "26  Investor Dan Niles likes these tech stocks hea...  21 Hours Ago   \n",
       "27  Vince McMahon locks in two-year contract as WW...  21 Hours Ago   \n",
       "28  As the cost of living skyrockets, money is the...  21 Hours Ago   \n",
       "29  April is usually the best month for the Dow. H...  22 Hours Ago   \n",
       "\n",
       "                                            News Link  \n",
       "0   https://www.cnbc.com/2023/04/01/hot-off-a-posi...  \n",
       "1   https://www.cnbc.com/2023/04/01/financial-lite...  \n",
       "2   https://www.cnbc.com/2023/04/01/how-tipping-in...  \n",
       "3   https://www.cnbc.com/2023/04/01/analysts-say-b...  \n",
       "4   https://www.cnbc.com/2023/04/01/quarterly-inve...  \n",
       "5   https://www.cnbc.com/2023/04/01/quarterly-inve...  \n",
       "6   https://www.cnbc.com/2023/03/31/pet-stocks-are...  \n",
       "7   https://www.cnbc.com/2023/03/31/pro-picks-watc...  \n",
       "8   https://www.cnbc.com/2023/03/31/first-quarter-...  \n",
       "9   https://www.cnbc.com/2023/03/31/fox-motions-re...  \n",
       "10  https://www.cnbc.com/2023/03/31/google-founder...  \n",
       "11  https://www.cnbc.com/2023/03/31/medicaid-milli...  \n",
       "12  https://www.cnbc.com/2023/03/31/trump-indictme...  \n",
       "13  https://www.cnbc.com/2023/03/31/virgin-orbit-w...  \n",
       "14  https://www.cnbc.com/2023/03/31/stocks-could-b...  \n",
       "15  https://www.cnbc.com/2023/03/31/how-women-are-...  \n",
       "16  https://www.cnbc.com/2023/03/31/tax-refunds-ar...  \n",
       "17  https://www.cnbc.com/2023/03/31/obamacare-bide...  \n",
       "18  https://www.cnbc.com/2023/03/31/top-10-states-...  \n",
       "19  https://www.cnbc.com/2023/03/31/weeks-top-sp-5...  \n",
       "20  https://www.cnbc.com/2023/03/31/rust-assistant...  \n",
       "21  https://www.cnbc.com/2023/03/31/financial-psyc...  \n",
       "22  https://www.cnbc.com/2023/03/31/bitcoin-heads-...  \n",
       "23  https://www.cnbc.com/2023/03/31/paying-more-an...  \n",
       "24  https://www.cnbc.com/2023/03/31/california-req...  \n",
       "25  https://www.cnbc.com/2023/03/31/tesla-issues-r...  \n",
       "26  https://www.cnbc.com/2023/03/31/investor-dan-n...  \n",
       "27  https://www.cnbc.com/2023/03/31/vince-mcmahon-...  \n",
       "28  https://www.cnbc.com/2023/03/31/financial-depe...  \n",
       "29  https://www.cnbc.com/2023/03/31/april-is-usual...  "
      ]
     },
     "execution_count": 56,
     "metadata": {},
     "output_type": "execute_result"
    }
   ],
   "source": [
    "import pandas as pd\n",
    "df=pd.DataFrame({\"Headline\":headline,\"Time\":time,\"News Link\":link})\n",
    "df"
   ]
  },
  {
   "cell_type": "markdown",
   "id": "6c9a8b1d",
   "metadata": {},
   "source": [
    "# Q NO 8"
   ]
  },
  {
   "cell_type": "code",
   "execution_count": 57,
   "id": "e39fadca",
   "metadata": {},
   "outputs": [
    {
     "data": {
      "text/plain": [
       "<Response [200]>"
      ]
     },
     "execution_count": 57,
     "metadata": {},
     "output_type": "execute_result"
    }
   ],
   "source": [
    "page = requests.get(\"https://www.journals.elsevier.com/artificial-intelligence/most-downloaded-articles\")\n",
    "page"
   ]
  },
  {
   "cell_type": "code",
   "execution_count": 58,
   "id": "c3a663b7",
   "metadata": {},
   "outputs": [],
   "source": [
    "soup = BeautifulSoup(page.content)"
   ]
  },
  {
   "cell_type": "code",
   "execution_count": 59,
   "id": "3145045b",
   "metadata": {},
   "outputs": [],
   "source": [
    "paper_Title=[]\n",
    "for i in soup.find_all('li',class_=\"sc-9zxyh7-1 sc-9zxyh7-2 kOEIEO hvoVxs\"):\n",
    "    paper_Title.append(i.text.split(',')[0])"
   ]
  },
  {
   "cell_type": "code",
   "execution_count": 60,
   "id": "39d44217",
   "metadata": {},
   "outputs": [],
   "source": [
    "authors=[]\n",
    "for i in soup.find_all('span',class_=\"sc-1w3fpd7-0 dnCnAO\"):\n",
    "    authors.append(i.text)"
   ]
  },
  {
   "cell_type": "code",
   "execution_count": 61,
   "id": "276d8137",
   "metadata": {},
   "outputs": [],
   "source": [
    "published_Date=[]\n",
    "for i in soup.find_all('span',class_=\"sc-1thf9ly-2 dvggWt\"):\n",
    "    published_Date.append(i.text)"
   ]
  },
  {
   "cell_type": "code",
   "execution_count": 62,
   "id": "7401250e",
   "metadata": {},
   "outputs": [],
   "source": [
    "link=[]\n",
    "for i in soup.find_all('a', class_=\"sc-5smygv-0 fIXTHm\"):\n",
    "    link.append(i.get('href'))"
   ]
  },
  {
   "cell_type": "code",
   "execution_count": 63,
   "id": "962e8fcb",
   "metadata": {},
   "outputs": [
    {
     "name": "stdout",
     "output_type": "stream",
     "text": [
      "25 25 25 25\n"
     ]
    }
   ],
   "source": [
    "print(len(paper_Title),len(authors),len(published_Date),len(link))"
   ]
  },
  {
   "cell_type": "code",
   "execution_count": 64,
   "id": "15e82f30",
   "metadata": {},
   "outputs": [
    {
     "data": {
      "text/html": [
       "<div>\n",
       "<style scoped>\n",
       "    .dataframe tbody tr th:only-of-type {\n",
       "        vertical-align: middle;\n",
       "    }\n",
       "\n",
       "    .dataframe tbody tr th {\n",
       "        vertical-align: top;\n",
       "    }\n",
       "\n",
       "    .dataframe thead th {\n",
       "        text-align: right;\n",
       "    }\n",
       "</style>\n",
       "<table border=\"1\" class=\"dataframe\">\n",
       "  <thead>\n",
       "    <tr style=\"text-align: right;\">\n",
       "      <th></th>\n",
       "      <th>Paper Title</th>\n",
       "      <th>Authors</th>\n",
       "      <th>Published Date</th>\n",
       "      <th>Paper URL</th>\n",
       "    </tr>\n",
       "  </thead>\n",
       "  <tbody>\n",
       "    <tr>\n",
       "      <th>0</th>\n",
       "      <td>Reward is enoughSilver</td>\n",
       "      <td>Silver, David, Singh, Satinder, Precup, Doina,...</td>\n",
       "      <td>October 2021</td>\n",
       "      <td>https://www.sciencedirect.com/science/article/...</td>\n",
       "    </tr>\n",
       "    <tr>\n",
       "      <th>1</th>\n",
       "      <td>Making sense of raw inputEvans</td>\n",
       "      <td>Evans, Richard, Bošnjak, Matko and 5 more</td>\n",
       "      <td>October 2021</td>\n",
       "      <td>https://www.sciencedirect.com/science/article/...</td>\n",
       "    </tr>\n",
       "    <tr>\n",
       "      <th>2</th>\n",
       "      <td>Law and logic: A review from an argumentation ...</td>\n",
       "      <td>Prakken, Henry, Sartor, Giovanni</td>\n",
       "      <td>October 2015</td>\n",
       "      <td>https://www.sciencedirect.com/science/article/...</td>\n",
       "    </tr>\n",
       "    <tr>\n",
       "      <th>3</th>\n",
       "      <td>Creativity and artificial intelligenceBoden</td>\n",
       "      <td>Boden, Margaret A.</td>\n",
       "      <td>August 1998</td>\n",
       "      <td>https://www.sciencedirect.com/science/article/...</td>\n",
       "    </tr>\n",
       "    <tr>\n",
       "      <th>4</th>\n",
       "      <td>Artificial cognition for social human–robot in...</td>\n",
       "      <td>Lemaignan, Séverin, Warnier, Mathieu and 3 more</td>\n",
       "      <td>June 2017</td>\n",
       "      <td>https://www.sciencedirect.com/science/article/...</td>\n",
       "    </tr>\n",
       "    <tr>\n",
       "      <th>5</th>\n",
       "      <td>Explanation in artificial intelligence: Insigh...</td>\n",
       "      <td>Miller, Tim</td>\n",
       "      <td>February 2019</td>\n",
       "      <td>https://www.sciencedirect.com/science/article/...</td>\n",
       "    </tr>\n",
       "    <tr>\n",
       "      <th>6</th>\n",
       "      <td>Making sense of sensory inputEvans</td>\n",
       "      <td>Evans, Richard, Hernández-Orallo, José and 3 more</td>\n",
       "      <td>April 2021</td>\n",
       "      <td>https://www.sciencedirect.com/science/article/...</td>\n",
       "    </tr>\n",
       "    <tr>\n",
       "      <th>7</th>\n",
       "      <td>Conflict-based search for optimal multi-agent ...</td>\n",
       "      <td>Sharon, Guni, Stern, Roni, Felner, Ariel, Stur...</td>\n",
       "      <td>February 2015</td>\n",
       "      <td>https://www.sciencedirect.com/science/article/...</td>\n",
       "    </tr>\n",
       "    <tr>\n",
       "      <th>8</th>\n",
       "      <td>Between MDPs and semi-MDPs: A framework for te...</td>\n",
       "      <td>Sutton, Richard S., Precup, Doina, Singh, Sati...</td>\n",
       "      <td>August 1999</td>\n",
       "      <td>https://www.sciencedirect.com/science/article/...</td>\n",
       "    </tr>\n",
       "    <tr>\n",
       "      <th>9</th>\n",
       "      <td>The Hanabi challenge: A new frontier for AI re...</td>\n",
       "      <td>Bard, Nolan, Foerster, Jakob N. and 13 more</td>\n",
       "      <td>March 2020</td>\n",
       "      <td>https://www.sciencedirect.com/science/article/...</td>\n",
       "    </tr>\n",
       "    <tr>\n",
       "      <th>10</th>\n",
       "      <td>Evaluating XAI: A comparison of rule-based and...</td>\n",
       "      <td>van der Waa, Jasper, Nieuwburg, Elisabeth, Cre...</td>\n",
       "      <td>February 2021</td>\n",
       "      <td>https://www.sciencedirect.com/science/article/...</td>\n",
       "    </tr>\n",
       "    <tr>\n",
       "      <th>11</th>\n",
       "      <td>Argumentation in artificial intelligenceBench-...</td>\n",
       "      <td>Bench-Capon, T.J.M., Dunne, Paul E.</td>\n",
       "      <td>October 2007</td>\n",
       "      <td>https://www.sciencedirect.com/science/article/...</td>\n",
       "    </tr>\n",
       "    <tr>\n",
       "      <th>12</th>\n",
       "      <td>Algorithms for computing strategies in two-pla...</td>\n",
       "      <td>Bošanský, Branislav, Lisý, Viliam and 3 more</td>\n",
       "      <td>August 2016</td>\n",
       "      <td>https://www.sciencedirect.com/science/article/...</td>\n",
       "    </tr>\n",
       "    <tr>\n",
       "      <th>13</th>\n",
       "      <td>Multiple object tracking: A literature reviewLuo</td>\n",
       "      <td>Luo, Wenhan, Xing, Junliang and 4 more</td>\n",
       "      <td>April 2021</td>\n",
       "      <td>https://www.sciencedirect.com/science/article/...</td>\n",
       "    </tr>\n",
       "    <tr>\n",
       "      <th>14</th>\n",
       "      <td>Selection of relevant features and examples in...</td>\n",
       "      <td>Blum, Avrim L., Langley, Pat</td>\n",
       "      <td>December 1997</td>\n",
       "      <td>https://www.sciencedirect.com/science/article/...</td>\n",
       "    </tr>\n",
       "    <tr>\n",
       "      <th>15</th>\n",
       "      <td>A survey of inverse reinforcement learning: Ch...</td>\n",
       "      <td>Arora, Saurabh, Doshi, Prashant</td>\n",
       "      <td>August 2021</td>\n",
       "      <td>https://www.sciencedirect.com/science/article/...</td>\n",
       "    </tr>\n",
       "    <tr>\n",
       "      <th>16</th>\n",
       "      <td>Explaining individual predictions when feature...</td>\n",
       "      <td>Aas, Kjersti, Jullum, Martin, Løland, Anders</td>\n",
       "      <td>September 2021</td>\n",
       "      <td>https://www.sciencedirect.com/science/article/...</td>\n",
       "    </tr>\n",
       "    <tr>\n",
       "      <th>17</th>\n",
       "      <td>A review of possible effects of cognitive bias...</td>\n",
       "      <td>Kliegr, Tomáš, Bahník, Štěpán, Fürnkranz, Joha...</td>\n",
       "      <td>June 2021</td>\n",
       "      <td>https://www.sciencedirect.com/science/article/...</td>\n",
       "    </tr>\n",
       "    <tr>\n",
       "      <th>18</th>\n",
       "      <td>Integrating social power into the decision-mak...</td>\n",
       "      <td>Pereira, Gonçalo, Prada, Rui, Santos, Pedro A.</td>\n",
       "      <td>December 2016</td>\n",
       "      <td>https://www.sciencedirect.com/science/article/...</td>\n",
       "    </tr>\n",
       "    <tr>\n",
       "      <th>19</th>\n",
       "      <td>“That's (not) the output I expected!” On the r...</td>\n",
       "      <td>Riveiro, Maria, Thill, Serge</td>\n",
       "      <td>September 2021</td>\n",
       "      <td>https://www.sciencedirect.com/science/article/...</td>\n",
       "    </tr>\n",
       "    <tr>\n",
       "      <th>20</th>\n",
       "      <td>Explaining black-box classifiers using post-ho...</td>\n",
       "      <td>Kenny, Eoin M., Ford, Courtney, Quinn, Molly, ...</td>\n",
       "      <td>May 2021</td>\n",
       "      <td>https://www.sciencedirect.com/science/article/...</td>\n",
       "    </tr>\n",
       "    <tr>\n",
       "      <th>21</th>\n",
       "      <td>Algorithm runtime prediction: Methods &amp; evalua...</td>\n",
       "      <td>Hutter, Frank, Xu, Lin, Hoos, Holger H., Leyto...</td>\n",
       "      <td>January 2014</td>\n",
       "      <td>https://www.sciencedirect.com/science/article/...</td>\n",
       "    </tr>\n",
       "    <tr>\n",
       "      <th>22</th>\n",
       "      <td>Wrappers for feature subset selectionKohavi</td>\n",
       "      <td>Kohavi, Ron, John, George H.</td>\n",
       "      <td>December 1997</td>\n",
       "      <td>https://www.sciencedirect.com/science/article/...</td>\n",
       "    </tr>\n",
       "    <tr>\n",
       "      <th>23</th>\n",
       "      <td>Commonsense visual sensemaking for autonomous ...</td>\n",
       "      <td>Suchan, Jakob, Bhatt, Mehul, Varadarajan, Srik...</td>\n",
       "      <td>October 2021</td>\n",
       "      <td>https://www.sciencedirect.com/science/article/...</td>\n",
       "    </tr>\n",
       "    <tr>\n",
       "      <th>24</th>\n",
       "      <td>Quantum computation</td>\n",
       "      <td>Ying, Mingsheng</td>\n",
       "      <td>February 2010</td>\n",
       "      <td>https://www.sciencedirect.com/science/article/...</td>\n",
       "    </tr>\n",
       "  </tbody>\n",
       "</table>\n",
       "</div>"
      ],
      "text/plain": [
       "                                          Paper Title  \\\n",
       "0                              Reward is enoughSilver   \n",
       "1                      Making sense of raw inputEvans   \n",
       "2   Law and logic: A review from an argumentation ...   \n",
       "3         Creativity and artificial intelligenceBoden   \n",
       "4   Artificial cognition for social human–robot in...   \n",
       "5   Explanation in artificial intelligence: Insigh...   \n",
       "6                  Making sense of sensory inputEvans   \n",
       "7   Conflict-based search for optimal multi-agent ...   \n",
       "8   Between MDPs and semi-MDPs: A framework for te...   \n",
       "9   The Hanabi challenge: A new frontier for AI re...   \n",
       "10  Evaluating XAI: A comparison of rule-based and...   \n",
       "11  Argumentation in artificial intelligenceBench-...   \n",
       "12  Algorithms for computing strategies in two-pla...   \n",
       "13   Multiple object tracking: A literature reviewLuo   \n",
       "14  Selection of relevant features and examples in...   \n",
       "15  A survey of inverse reinforcement learning: Ch...   \n",
       "16  Explaining individual predictions when feature...   \n",
       "17  A review of possible effects of cognitive bias...   \n",
       "18  Integrating social power into the decision-mak...   \n",
       "19  “That's (not) the output I expected!” On the r...   \n",
       "20  Explaining black-box classifiers using post-ho...   \n",
       "21  Algorithm runtime prediction: Methods & evalua...   \n",
       "22        Wrappers for feature subset selectionKohavi   \n",
       "23  Commonsense visual sensemaking for autonomous ...   \n",
       "24                                Quantum computation   \n",
       "\n",
       "                                              Authors  Published Date  \\\n",
       "0   Silver, David, Singh, Satinder, Precup, Doina,...    October 2021   \n",
       "1           Evans, Richard, Bošnjak, Matko and 5 more    October 2021   \n",
       "2                   Prakken, Henry, Sartor, Giovanni     October 2015   \n",
       "3                                 Boden, Margaret A.      August 1998   \n",
       "4     Lemaignan, Séverin, Warnier, Mathieu and 3 more       June 2017   \n",
       "5                                        Miller, Tim    February 2019   \n",
       "6   Evans, Richard, Hernández-Orallo, José and 3 more      April 2021   \n",
       "7   Sharon, Guni, Stern, Roni, Felner, Ariel, Stur...   February 2015   \n",
       "8   Sutton, Richard S., Precup, Doina, Singh, Sati...     August 1999   \n",
       "9         Bard, Nolan, Foerster, Jakob N. and 13 more      March 2020   \n",
       "10  van der Waa, Jasper, Nieuwburg, Elisabeth, Cre...   February 2021   \n",
       "11               Bench-Capon, T.J.M., Dunne, Paul E.     October 2007   \n",
       "12       Bošanský, Branislav, Lisý, Viliam and 3 more     August 2016   \n",
       "13             Luo, Wenhan, Xing, Junliang and 4 more      April 2021   \n",
       "14                      Blum, Avrim L., Langley, Pat    December 1997   \n",
       "15                   Arora, Saurabh, Doshi, Prashant      August 2021   \n",
       "16      Aas, Kjersti, Jullum, Martin, Løland, Anders   September 2021   \n",
       "17  Kliegr, Tomáš, Bahník, Štěpán, Fürnkranz, Joha...       June 2021   \n",
       "18    Pereira, Gonçalo, Prada, Rui, Santos, Pedro A.    December 2016   \n",
       "19                      Riveiro, Maria, Thill, Serge   September 2021   \n",
       "20  Kenny, Eoin M., Ford, Courtney, Quinn, Molly, ...        May 2021   \n",
       "21  Hutter, Frank, Xu, Lin, Hoos, Holger H., Leyto...    January 2014   \n",
       "22                      Kohavi, Ron, John, George H.    December 1997   \n",
       "23  Suchan, Jakob, Bhatt, Mehul, Varadarajan, Srik...    October 2021   \n",
       "24                                   Ying, Mingsheng    February 2010   \n",
       "\n",
       "                                            Paper URL  \n",
       "0   https://www.sciencedirect.com/science/article/...  \n",
       "1   https://www.sciencedirect.com/science/article/...  \n",
       "2   https://www.sciencedirect.com/science/article/...  \n",
       "3   https://www.sciencedirect.com/science/article/...  \n",
       "4   https://www.sciencedirect.com/science/article/...  \n",
       "5   https://www.sciencedirect.com/science/article/...  \n",
       "6   https://www.sciencedirect.com/science/article/...  \n",
       "7   https://www.sciencedirect.com/science/article/...  \n",
       "8   https://www.sciencedirect.com/science/article/...  \n",
       "9   https://www.sciencedirect.com/science/article/...  \n",
       "10  https://www.sciencedirect.com/science/article/...  \n",
       "11  https://www.sciencedirect.com/science/article/...  \n",
       "12  https://www.sciencedirect.com/science/article/...  \n",
       "13  https://www.sciencedirect.com/science/article/...  \n",
       "14  https://www.sciencedirect.com/science/article/...  \n",
       "15  https://www.sciencedirect.com/science/article/...  \n",
       "16  https://www.sciencedirect.com/science/article/...  \n",
       "17  https://www.sciencedirect.com/science/article/...  \n",
       "18  https://www.sciencedirect.com/science/article/...  \n",
       "19  https://www.sciencedirect.com/science/article/...  \n",
       "20  https://www.sciencedirect.com/science/article/...  \n",
       "21  https://www.sciencedirect.com/science/article/...  \n",
       "22  https://www.sciencedirect.com/science/article/...  \n",
       "23  https://www.sciencedirect.com/science/article/...  \n",
       "24  https://www.sciencedirect.com/science/article/...  "
      ]
     },
     "execution_count": 64,
     "metadata": {},
     "output_type": "execute_result"
    }
   ],
   "source": [
    "import pandas as pd\n",
    "df=pd.DataFrame({\"Paper Title\":paper_Title,\"Authors\":authors,\"Published Date\":published_Date,\"Paper URL\":link})\n",
    "df"
   ]
  },
  {
   "cell_type": "markdown",
   "id": "1445f1b3",
   "metadata": {},
   "source": [
    "# Q NO 9"
   ]
  },
  {
   "cell_type": "code",
   "execution_count": 65,
   "id": "4b3942a5",
   "metadata": {},
   "outputs": [
    {
     "data": {
      "text/plain": [
       "<Response [200]>"
      ]
     },
     "execution_count": 65,
     "metadata": {},
     "output_type": "execute_result"
    }
   ],
   "source": [
    "page = requests.get(\"https://www.dineout.co.in/delhi-restaurants/buffet-special\")\n",
    "page"
   ]
  },
  {
   "cell_type": "code",
   "execution_count": 66,
   "id": "16bab747",
   "metadata": {},
   "outputs": [],
   "source": [
    "soup = BeautifulSoup(page.content)"
   ]
  },
  {
   "cell_type": "code",
   "execution_count": 67,
   "id": "ea0f4a51",
   "metadata": {},
   "outputs": [],
   "source": [
    "name=[]\n",
    "for i in soup.find_all('a',class_=\"restnt-name ellipsis\"):\n",
    "    name.append(i.text)"
   ]
  },
  {
   "cell_type": "code",
   "execution_count": 68,
   "id": "1efc6263",
   "metadata": {},
   "outputs": [],
   "source": [
    "cuisine=[]\n",
    "for i in soup.find_all('span',class_=\"double-line-ellipsis\"):\n",
    "    cuisine.append(i.text.split('|')[1])"
   ]
  },
  {
   "cell_type": "code",
   "execution_count": 69,
   "id": "7a592ef6",
   "metadata": {},
   "outputs": [],
   "source": [
    "location=[]\n",
    "for i in soup.find_all('div',class_=\"restnt-loc ellipsis\"):\n",
    "    location.append(i.text)"
   ]
  },
  {
   "cell_type": "code",
   "execution_count": 70,
   "id": "daf9b805",
   "metadata": {},
   "outputs": [],
   "source": [
    "ratings=[]\n",
    "for i in soup.find_all('div',class_=\"restnt-rating rating-4\"):\n",
    "    ratings.append(i.text)"
   ]
  },
  {
   "cell_type": "code",
   "execution_count": 71,
   "id": "a6de27a5",
   "metadata": {},
   "outputs": [],
   "source": [
    "link=[]\n",
    "for i in soup.find_all('a', class_=\"restnt-name ellipsis\"):\n",
    "    link.append(i.get('href'))"
   ]
  },
  {
   "cell_type": "code",
   "execution_count": 72,
   "id": "cfce863b",
   "metadata": {},
   "outputs": [
    {
     "name": "stdout",
     "output_type": "stream",
     "text": [
      "9 9 9 9 9\n"
     ]
    }
   ],
   "source": [
    "print(len(name),len(cuisine),len(location),len(ratings),len(link))"
   ]
  },
  {
   "cell_type": "code",
   "execution_count": 73,
   "id": "8f24f0dc",
   "metadata": {},
   "outputs": [
    {
     "data": {
      "text/html": [
       "<div>\n",
       "<style scoped>\n",
       "    .dataframe tbody tr th:only-of-type {\n",
       "        vertical-align: middle;\n",
       "    }\n",
       "\n",
       "    .dataframe tbody tr th {\n",
       "        vertical-align: top;\n",
       "    }\n",
       "\n",
       "    .dataframe thead th {\n",
       "        text-align: right;\n",
       "    }\n",
       "</style>\n",
       "<table border=\"1\" class=\"dataframe\">\n",
       "  <thead>\n",
       "    <tr style=\"text-align: right;\">\n",
       "      <th></th>\n",
       "      <th>Restaurant name</th>\n",
       "      <th>Cuisine</th>\n",
       "      <th>Location</th>\n",
       "      <th>Ratings</th>\n",
       "      <th>Image URL</th>\n",
       "    </tr>\n",
       "  </thead>\n",
       "  <tbody>\n",
       "    <tr>\n",
       "      <th>0</th>\n",
       "      <td>Castle Barbeque</td>\n",
       "      <td>Chinese, North Indian</td>\n",
       "      <td>Connaught Place, Central Delhi</td>\n",
       "      <td>4</td>\n",
       "      <td>/delhi/castle-barbeque-connaught-place-central...</td>\n",
       "    </tr>\n",
       "    <tr>\n",
       "      <th>1</th>\n",
       "      <td>Jungle Jamboree</td>\n",
       "      <td>North Indian, Asian, Italian</td>\n",
       "      <td>3CS Mall,Lajpat Nagar - 3, South Delhi</td>\n",
       "      <td>3.9</td>\n",
       "      <td>/delhi/jungle-jamboree-lajpat-nagar-3-south-de...</td>\n",
       "    </tr>\n",
       "    <tr>\n",
       "      <th>2</th>\n",
       "      <td>Cafe Knosh</td>\n",
       "      <td>Italian, Continental</td>\n",
       "      <td>The Leela Ambience Convention Hotel,Shahdara, ...</td>\n",
       "      <td>4.3</td>\n",
       "      <td>/delhi/cafe-knosh-shahdara-east-delhi-406</td>\n",
       "    </tr>\n",
       "    <tr>\n",
       "      <th>3</th>\n",
       "      <td>Castle Barbeque</td>\n",
       "      <td>Chinese, North Indian</td>\n",
       "      <td>Pacific Mall,Tagore Garden, West Delhi</td>\n",
       "      <td>3.9</td>\n",
       "      <td>/delhi/castle-barbeque-tagore-garden-west-delh...</td>\n",
       "    </tr>\n",
       "    <tr>\n",
       "      <th>4</th>\n",
       "      <td>The Barbeque Company</td>\n",
       "      <td>North Indian, Chinese</td>\n",
       "      <td>Gardens Galleria,Sector 38A, Noida</td>\n",
       "      <td>3.9</td>\n",
       "      <td>/delhi/the-barbeque-company-sector-38a-noida-7...</td>\n",
       "    </tr>\n",
       "    <tr>\n",
       "      <th>5</th>\n",
       "      <td>India Grill</td>\n",
       "      <td>North Indian, Italian</td>\n",
       "      <td>Hilton Garden Inn,Saket, South Delhi</td>\n",
       "      <td>3.9</td>\n",
       "      <td>/delhi/india-grill-saket-south-delhi-2687</td>\n",
       "    </tr>\n",
       "    <tr>\n",
       "      <th>6</th>\n",
       "      <td>Delhi Barbeque</td>\n",
       "      <td>North Indian</td>\n",
       "      <td>Taurus Sarovar Portico,Mahipalpur, South Delhi</td>\n",
       "      <td>3.7</td>\n",
       "      <td>/delhi/delhi-barbeque-mahipalpur-south-delhi-5...</td>\n",
       "    </tr>\n",
       "    <tr>\n",
       "      <th>7</th>\n",
       "      <td>The Monarch - Bar Be Que Village</td>\n",
       "      <td>North Indian</td>\n",
       "      <td>Indirapuram Habitat Centre,Indirapuram, Ghaziabad</td>\n",
       "      <td>3.8</td>\n",
       "      <td>/delhi/the-monarch-bar-be-que-village-indirapu...</td>\n",
       "    </tr>\n",
       "    <tr>\n",
       "      <th>8</th>\n",
       "      <td>Indian Grill Room</td>\n",
       "      <td>North Indian, Mughlai</td>\n",
       "      <td>Suncity Business Tower,Golf Course Road, Gurgaon</td>\n",
       "      <td>4.3</td>\n",
       "      <td>/delhi/indian-grill-room-golf-course-road-gurg...</td>\n",
       "    </tr>\n",
       "  </tbody>\n",
       "</table>\n",
       "</div>"
      ],
      "text/plain": [
       "                    Restaurant name                        Cuisine  \\\n",
       "0                   Castle Barbeque          Chinese, North Indian   \n",
       "1                   Jungle Jamboree   North Indian, Asian, Italian   \n",
       "2                        Cafe Knosh           Italian, Continental   \n",
       "3                   Castle Barbeque          Chinese, North Indian   \n",
       "4              The Barbeque Company          North Indian, Chinese   \n",
       "5                       India Grill          North Indian, Italian   \n",
       "6                    Delhi Barbeque                   North Indian   \n",
       "7  The Monarch - Bar Be Que Village                   North Indian   \n",
       "8                 Indian Grill Room          North Indian, Mughlai   \n",
       "\n",
       "                                            Location Ratings  \\\n",
       "0                     Connaught Place, Central Delhi       4   \n",
       "1             3CS Mall,Lajpat Nagar - 3, South Delhi     3.9   \n",
       "2  The Leela Ambience Convention Hotel,Shahdara, ...     4.3   \n",
       "3             Pacific Mall,Tagore Garden, West Delhi     3.9   \n",
       "4                 Gardens Galleria,Sector 38A, Noida     3.9   \n",
       "5               Hilton Garden Inn,Saket, South Delhi     3.9   \n",
       "6     Taurus Sarovar Portico,Mahipalpur, South Delhi     3.7   \n",
       "7  Indirapuram Habitat Centre,Indirapuram, Ghaziabad     3.8   \n",
       "8   Suncity Business Tower,Golf Course Road, Gurgaon     4.3   \n",
       "\n",
       "                                           Image URL  \n",
       "0  /delhi/castle-barbeque-connaught-place-central...  \n",
       "1  /delhi/jungle-jamboree-lajpat-nagar-3-south-de...  \n",
       "2          /delhi/cafe-knosh-shahdara-east-delhi-406  \n",
       "3  /delhi/castle-barbeque-tagore-garden-west-delh...  \n",
       "4  /delhi/the-barbeque-company-sector-38a-noida-7...  \n",
       "5          /delhi/india-grill-saket-south-delhi-2687  \n",
       "6  /delhi/delhi-barbeque-mahipalpur-south-delhi-5...  \n",
       "7  /delhi/the-monarch-bar-be-que-village-indirapu...  \n",
       "8  /delhi/indian-grill-room-golf-course-road-gurg...  "
      ]
     },
     "execution_count": 73,
     "metadata": {},
     "output_type": "execute_result"
    }
   ],
   "source": [
    "df=pd.DataFrame({\"Restaurant name\":name,\"Cuisine\":cuisine,\"Location\":location,\"Ratings\":ratings,\"Image URL\":link})\n",
    "df"
   ]
  },
  {
   "cell_type": "code",
   "execution_count": null,
   "id": "93878a9c",
   "metadata": {},
   "outputs": [],
   "source": []
  },
  {
   "cell_type": "code",
   "execution_count": null,
   "id": "5b0325f9",
   "metadata": {},
   "outputs": [],
   "source": []
  }
 ],
 "metadata": {
  "kernelspec": {
   "display_name": "Python 3 (ipykernel)",
   "language": "python",
   "name": "python3"
  },
  "language_info": {
   "codemirror_mode": {
    "name": "ipython",
    "version": 3
   },
   "file_extension": ".py",
   "mimetype": "text/x-python",
   "name": "python",
   "nbconvert_exporter": "python",
   "pygments_lexer": "ipython3",
   "version": "3.9.12"
  }
 },
 "nbformat": 4,
 "nbformat_minor": 5
}
